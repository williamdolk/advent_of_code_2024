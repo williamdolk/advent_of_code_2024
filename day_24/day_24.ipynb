{
 "cells": [
  {
   "cell_type": "markdown",
   "id": "0c0e9fcb",
   "metadata": {},
   "source": [
    "# Day 24\n",
    "## Puzzle 1"
   ]
  },
  {
   "cell_type": "code",
   "execution_count": 422,
   "id": "794b76da",
   "metadata": {},
   "outputs": [],
   "source": [
    "import numpy as np\n",
    "from itertools import combinations\n",
    "from tqdm import tqdm\n",
    "from math import comb\n",
    "import networkx as nx\n",
    "import matplotlib.pyplot as plt\n",
    "\n",
    "%matplotlib inline"
   ]
  },
  {
   "cell_type": "code",
   "execution_count": 423,
   "id": "0495aad4",
   "metadata": {},
   "outputs": [],
   "source": [
    "input_file = 'input_1.txt'\n",
    "input_file = 'test_input_1.txt'"
   ]
  },
  {
   "cell_type": "code",
   "execution_count": 424,
   "id": "eecf74b8",
   "metadata": {},
   "outputs": [],
   "source": [
    "with open(file=input_file, mode=\"r\") as file:\n",
    "    input_parts = file.read().split('\\n\\n')\n",
    "    known_wire_values = {}\n",
    "    operations = []\n",
    "\n",
    "    for input_part in input_parts[0].split('\\n'):\n",
    "        key, val = input_part.split(': ')\n",
    "        known_wire_values[key] = int(val)\n",
    "\n",
    "    for input_part in input_parts[1].split('\\n'):\n",
    "        input_wire_1, operator, input_wire_2, _, output_wire = input_part.split(' ')\n",
    "        operation = {\n",
    "            'input_wire_1': input_wire_1,\n",
    "            'input_wire_2': input_wire_2,\n",
    "            'operator': operator,\n",
    "            'output_wire': output_wire\n",
    "        }\n",
    "        operations.append(operation)"
   ]
  },
  {
   "cell_type": "code",
   "execution_count": 425,
   "id": "af0a0c27",
   "metadata": {},
   "outputs": [],
   "source": [
    "def get_all_known_wire_values(known_wire_values: dict[str, int], operations: list[dict]) -> dict[str, int]:\n",
    "    known_wire_values_copy = known_wire_values.copy()\n",
    "    operations_copy = operations.copy()\n",
    "\n",
    "    while operations_copy:\n",
    "        indices_to_remove = []\n",
    "\n",
    "        for i, operation in enumerate(operations_copy):\n",
    "\n",
    "            if operation['input_wire_1'] in known_wire_values_copy.keys() and operation['input_wire_2'] in known_wire_values_copy.keys():\n",
    "                operator = operation['operator']\n",
    "                in_1 = known_wire_values_copy[operation['input_wire_1']]\n",
    "                in_2 = known_wire_values_copy[operation['input_wire_2']]\n",
    "\n",
    "                if operator == 'AND':\n",
    "                    known_wire_values_copy[operation['output_wire']] = in_1 & in_2\n",
    "\n",
    "                elif operator == 'OR':\n",
    "                    known_wire_values_copy[operation['output_wire']] = in_1 | in_2\n",
    "\n",
    "                elif operator == 'XOR':\n",
    "                    known_wire_values_copy[operation['output_wire']] = in_1 ^ in_2\n",
    "\n",
    "                indices_to_remove.append(i)\n",
    "\n",
    "        for j in indices_to_remove[::-1]:\n",
    "            operations_copy.pop(j)\n",
    "\n",
    "    return known_wire_values_copy"
   ]
  },
  {
   "cell_type": "code",
   "execution_count": 426,
   "id": "59fd75a5",
   "metadata": {},
   "outputs": [],
   "source": [
    "def calculate_result(all_known_wire_values: dict[str, int]) -> int:\n",
    "    result = 0\n",
    "\n",
    "    for key in all_known_wire_values.keys():\n",
    "        if key.startswith('z'):\n",
    "            result += all_known_wire_values[key]*2**int(key[1:])\n",
    "\n",
    "    return result"
   ]
  },
  {
   "cell_type": "code",
   "execution_count": 427,
   "id": "19bef823",
   "metadata": {},
   "outputs": [],
   "source": [
    "all_known_wire_values = get_all_known_wire_values(known_wire_values, operations)\n",
    "result = calculate_result(all_known_wire_values)"
   ]
  },
  {
   "cell_type": "code",
   "execution_count": 428,
   "id": "54253630",
   "metadata": {},
   "outputs": [
    {
     "data": {
      "text/plain": [
       "2024"
      ]
     },
     "execution_count": 428,
     "metadata": {},
     "output_type": "execute_result"
    }
   ],
   "source": [
    "result"
   ]
  },
  {
   "cell_type": "markdown",
   "id": "c9ba8fb5",
   "metadata": {},
   "source": [
    "## Puzzle 2"
   ]
  },
  {
   "cell_type": "markdown",
   "id": "e6745716",
   "metadata": {},
   "source": [
    "NOT DONE!"
   ]
  },
  {
   "cell_type": "code",
   "execution_count": 429,
   "id": "8eb8cff6",
   "metadata": {},
   "outputs": [],
   "source": [
    "def set_known_wire_start_values(x: int, y: int, num_bits: int) -> dict[str, int]:\n",
    "    known_wire_start_values = {}\n",
    "\n",
    "    x_bin = bin(x).replace('0b', '')\n",
    "    y_bin = bin(y).replace('0b', '')\n",
    "    \n",
    "    for i in range(num_bits):\n",
    "        if i >= len(x_bin):\n",
    "            x_bit = 0\n",
    "\n",
    "        else:\n",
    "            x_bit = int(x_bin[-(i + 1)])\n",
    "\n",
    "        known_wire_start_values[f'x{str(i).zfill(2)}'] = x_bit\n",
    "\n",
    "    for i in range(num_bits):\n",
    "        if i >= len(y_bin):\n",
    "            y_bit = 0\n",
    "\n",
    "        else:\n",
    "            y_bit = int(y_bin[-(i + 1)])\n",
    "\n",
    "        known_wire_start_values[f'y{str(i).zfill(2)}'] = y_bit\n",
    "\n",
    "    return known_wire_start_values"
   ]
  },
  {
   "cell_type": "code",
   "execution_count": 432,
   "id": "0e78755d",
   "metadata": {},
   "outputs": [],
   "source": [
    "edges = []\n",
    "\n",
    "for operation in operations:\n",
    "    edges.append((operation['input_wire_1'], operation['output_wire']))\n",
    "    edges.append((operation['input_wire_2'], operation['output_wire']))\n",
    "\n",
    "D = nx.DiGraph()\n",
    "D.add_edges_from(edges)"
   ]
  },
  {
   "cell_type": "code",
   "execution_count": 433,
   "id": "12f81deb",
   "metadata": {},
   "outputs": [],
   "source": [
    "x = 0\n",
    "y = 0\n",
    "\n",
    "for key in known_wire_values.keys():\n",
    "    if key.startswith('x'):\n",
    "        x += known_wire_values[key]*2**int(key[1:])\n",
    "\n",
    "    elif key.startswith('y'):\n",
    "        y += known_wire_values[key]*2**int(key[1:])\n",
    "\n",
    "correct_result = x + y"
   ]
  },
  {
   "cell_type": "code",
   "execution_count": 434,
   "id": "5fd7936f",
   "metadata": {},
   "outputs": [
    {
     "data": {
      "text/plain": [
       "44"
      ]
     },
     "execution_count": 434,
     "metadata": {},
     "output_type": "execute_result"
    }
   ],
   "source": [
    "correct_result"
   ]
  },
  {
   "cell_type": "code",
   "execution_count": 435,
   "id": "f4f21d8b",
   "metadata": {},
   "outputs": [
    {
     "data": {
      "text/plain": [
       "\"\\nfor indices in tqdm(combinations(range(len(operations)), 8), total=comb(len(operations), 8)):\\n    known_wire_values_puzzle_2 = known_wire_values.copy()\\n    operations_puzzle_2 = operations.copy()\\n\\n    for ind_1, ind_2 in combinations(indices, 2):\\n        output_wire_1 = operations_puzzle_2[ind_1]['output_wire']\\n        output_wire_2 = operations_puzzle_2[ind_2]['output_wire']\\n        input_wires = [operations_puzzle_2[ind_1]['input_wire_1'], operations_puzzle_2[ind_1]['input_wire_2'], operations_puzzle_2[ind_2]['input_wire_1'], operations_puzzle_2[ind_2]['input_wire_2']]\\n\\n\\n        if not (output_wire_1 in input_wires or output_wire_2 in input_wires):\\n            operations_puzzle_2[ind_1]['output_wire'] = output_wire_2\\n            operations_puzzle_2[ind_2]['output_wire'] = output_wire_1\\n\\n        else:\\n            continue\\n\\n    while operations_puzzle_2:\\n        indices_to_remove = []\\n\\n        for i, operation in enumerate(operations_puzzle_2):\\n\\n            if operation['input_wire_1'] in known_wire_values_puzzle_2.keys() and operation['input_wire_2'] in known_wire_values_puzzle_2.keys():\\n                operator = operation['operator']\\n                in_1 = known_wire_values_puzzle_2[operation['input_wire_1']]\\n                in_2 = known_wire_values_puzzle_2[operation['input_wire_2']]\\n\\n                if operator == 'AND':\\n                    known_wire_values_puzzle_2[operation['output_wire']] = in_1 & in_2\\n\\n                elif operator == 'OR':\\n                    known_wire_values_puzzle_2[operation['output_wire']] = in_1 | in_2\\n\\n                elif operator == 'XOR':\\n                    known_wire_values_puzzle_2[operation['output_wire']] = in_1 ^ in_2\\n\\n                indices_to_remove.append(i)\\n\\n        for j in indices_to_remove[::-1]:\\n            operations_puzzle_2.pop(j)\\n\\n        if not indices_to_remove:\\n            break\\n\\n    result = 0\\n\\n    for key in known_wire_values_puzzle_2.keys():\\n        if key.startswith('z'):\\n            result += known_wire_values_puzzle_2[key]*2**int(key[1:])\\n\\n    if result == correct_result:\\n        print(indices)\\n        break\\n\""
      ]
     },
     "execution_count": 435,
     "metadata": {},
     "output_type": "execute_result"
    }
   ],
   "source": [
    "'''\n",
    "for indices in tqdm(combinations(range(len(operations)), 8), total=comb(len(operations), 8)):\n",
    "    known_wire_values_puzzle_2 = known_wire_values.copy()\n",
    "    operations_puzzle_2 = operations.copy()\n",
    "\n",
    "    for ind_1, ind_2 in combinations(indices, 2):\n",
    "        output_wire_1 = operations_puzzle_2[ind_1]['output_wire']\n",
    "        output_wire_2 = operations_puzzle_2[ind_2]['output_wire']\n",
    "        input_wires = [operations_puzzle_2[ind_1]['input_wire_1'], operations_puzzle_2[ind_1]['input_wire_2'], operations_puzzle_2[ind_2]['input_wire_1'], operations_puzzle_2[ind_2]['input_wire_2']]\n",
    "\n",
    "\n",
    "        if not (output_wire_1 in input_wires or output_wire_2 in input_wires):\n",
    "            operations_puzzle_2[ind_1]['output_wire'] = output_wire_2\n",
    "            operations_puzzle_2[ind_2]['output_wire'] = output_wire_1\n",
    "\n",
    "        else:\n",
    "            continue\n",
    "\n",
    "    while operations_puzzle_2:\n",
    "        indices_to_remove = []\n",
    "\n",
    "        for i, operation in enumerate(operations_puzzle_2):\n",
    "\n",
    "            if operation['input_wire_1'] in known_wire_values_puzzle_2.keys() and operation['input_wire_2'] in known_wire_values_puzzle_2.keys():\n",
    "                operator = operation['operator']\n",
    "                in_1 = known_wire_values_puzzle_2[operation['input_wire_1']]\n",
    "                in_2 = known_wire_values_puzzle_2[operation['input_wire_2']]\n",
    "\n",
    "                if operator == 'AND':\n",
    "                    known_wire_values_puzzle_2[operation['output_wire']] = in_1 & in_2\n",
    "\n",
    "                elif operator == 'OR':\n",
    "                    known_wire_values_puzzle_2[operation['output_wire']] = in_1 | in_2\n",
    "\n",
    "                elif operator == 'XOR':\n",
    "                    known_wire_values_puzzle_2[operation['output_wire']] = in_1 ^ in_2\n",
    "\n",
    "                indices_to_remove.append(i)\n",
    "\n",
    "        for j in indices_to_remove[::-1]:\n",
    "            operations_puzzle_2.pop(j)\n",
    "\n",
    "        if not indices_to_remove:\n",
    "            break\n",
    "\n",
    "    result = 0\n",
    "\n",
    "    for key in known_wire_values_puzzle_2.keys():\n",
    "        if key.startswith('z'):\n",
    "            result += known_wire_values_puzzle_2[key]*2**int(key[1:])\n",
    "\n",
    "    if result == correct_result:\n",
    "        print(indices)\n",
    "        break\n",
    "'''"
   ]
  }
 ],
 "metadata": {
  "kernelspec": {
   "display_name": "Python 3",
   "language": "python",
   "name": "python3"
  },
  "language_info": {
   "codemirror_mode": {
    "name": "ipython",
    "version": 3
   },
   "file_extension": ".py",
   "mimetype": "text/x-python",
   "name": "python",
   "nbconvert_exporter": "python",
   "pygments_lexer": "ipython3",
   "version": "3.12.4"
  }
 },
 "nbformat": 4,
 "nbformat_minor": 5
}
