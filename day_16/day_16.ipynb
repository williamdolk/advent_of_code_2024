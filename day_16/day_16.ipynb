{
 "cells": [
  {
   "cell_type": "markdown",
   "id": "55d616c0",
   "metadata": {},
   "source": [
    "# Day 16\n",
    "## Puzzle 1"
   ]
  },
  {
   "cell_type": "code",
   "execution_count": 124,
   "id": "628c69e4",
   "metadata": {},
   "outputs": [],
   "source": [
    "import numpy as np\n",
    "import networkx as nx"
   ]
  },
  {
   "cell_type": "code",
   "execution_count": 125,
   "id": "c1accd0a",
   "metadata": {},
   "outputs": [],
   "source": [
    "input_file = 'input_1.txt'\n",
    "# input_file = 'test_input_1.txt'"
   ]
  },
  {
   "cell_type": "markdown",
   "id": "b1d0646b",
   "metadata": {},
   "source": [
    "Read input reindeer maze."
   ]
  },
  {
   "cell_type": "code",
   "execution_count": 126,
   "id": "a3cae760",
   "metadata": {},
   "outputs": [],
   "source": [
    "with open(file=input_file, mode=\"r\") as file:\n",
    "    reindeer_maze = []\n",
    "\n",
    "    for line in file:\n",
    "        reindeer_maze.append(list(line.strip()))\n",
    "\n",
    "    reindeer_maze_matrix = np.matrix(reindeer_maze)"
   ]
  },
  {
   "cell_type": "code",
   "execution_count": 127,
   "id": "686457db",
   "metadata": {},
   "outputs": [
    {
     "data": {
      "text/plain": [
       "matrix([['#', '#', '#', ..., '#', '#', '#'],\n",
       "        ['#', '.', '.', ..., '.', 'E', '#'],\n",
       "        ['#', '.', '#', ..., '#', '.', '#'],\n",
       "        ...,\n",
       "        ['#', '#', '#', ..., '#', '.', '#'],\n",
       "        ['#', 'S', '.', ..., '#', '.', '#'],\n",
       "        ['#', '#', '#', ..., '#', '#', '#']], dtype='<U1')"
      ]
     },
     "execution_count": 127,
     "metadata": {},
     "output_type": "execute_result"
    }
   ],
   "source": [
    "reindeer_maze_matrix"
   ]
  },
  {
   "cell_type": "markdown",
   "id": "7de4d0cf",
   "metadata": {},
   "source": [
    "Each tile gets 4 nodes - one for each direction (North, East, South, West). The cost for turning from East to North on tile (i, j) is represented by a weighted directed edge between node (i, j, 'East') to (i, j, 'North') with a weight of 1000. Adjacent tiles only connect in the \"same direction\", i.e. (i, j, 'North') connects to (i - 1, j, 'North') with a weight of 1 (the tiles also have the connection (i - 1, j, 'South') connects to (i, j, 'South') if the raindeers are heading in the opposite direction)."
   ]
  },
  {
   "cell_type": "code",
   "execution_count": 128,
   "id": "f29abd86",
   "metadata": {},
   "outputs": [],
   "source": [
    "m, n = reindeer_maze_matrix.shape\n",
    "start_node = None\n",
    "end_nodes = None\n",
    "weighted_edges = []\n",
    "\n",
    "for i in range(m):\n",
    "    for j in range(n):\n",
    "        current_node_value = reindeer_maze_matrix[i, j]\n",
    "\n",
    "        if current_node_value == 'S':\n",
    "            start_node = (i, j, 'East')\n",
    "\n",
    "        elif current_node_value == 'E':\n",
    "            end_nodes = [(i, j, 'North'), (i, j, 'East'), (i, j, 'South'), (i, j, 'West')]\n",
    "\n",
    "        if current_node_value != '#':\n",
    "            current_node_weighted_edges = [\n",
    "                ((i, j, 'North'), (i, j, 'East'), 1000),\n",
    "                ((i, j, 'East'), (i, j, 'North'), 1000),\n",
    "                ((i, j, 'East'), (i, j, 'South'), 1000),\n",
    "                ((i, j, 'South'), (i, j, 'East'), 1000),\n",
    "                ((i, j, 'South'), (i, j, 'West'), 1000),\n",
    "                ((i, j, 'West'), (i, j, 'South'), 1000),\n",
    "                ((i, j, 'West'), (i, j, 'North'), 1000),\n",
    "                ((i, j, 'North'), (i, j, 'West'), 1000)\n",
    "            ]\n",
    "            weighted_edges.extend(current_node_weighted_edges)\n",
    "\n",
    "            if j + 1 < m:\n",
    "                current_east_node_value = reindeer_maze_matrix[i, j + 1]\n",
    "\n",
    "                if current_east_node_value != '#':\n",
    "                    weighted_edges.append(((i, j, 'East'), (i, j + 1, 'East'), 1))\n",
    "                \n",
    "            if j - 1 >= 0:\n",
    "                current_west_node_value = reindeer_maze_matrix[i, j - 1]\n",
    "\n",
    "                if current_west_node_value != '#':\n",
    "                    weighted_edges.append(((i, j, 'West'), (i, j - 1, 'West'), 1))\n",
    "\n",
    "            if i + 1 < n:\n",
    "                current_south_node_value = reindeer_maze_matrix[i + 1, j]\n",
    "\n",
    "                if current_south_node_value != '#':\n",
    "                    weighted_edges.append(((i, j, 'South'), (i + 1, j, 'South'), 1))\n",
    "\n",
    "            if i - 1 >= 0:\n",
    "                current_north_node_value = reindeer_maze_matrix[i - 1, j]\n",
    "\n",
    "                if current_north_node_value != '#':\n",
    "                    weighted_edges.append(((i, j, 'North'), (i - 1, j, 'North'), 1))"
   ]
  },
  {
   "cell_type": "markdown",
   "id": "946748e7",
   "metadata": {},
   "source": [
    "Create a weighted directed graph."
   ]
  },
  {
   "cell_type": "code",
   "execution_count": 129,
   "id": "4e738484",
   "metadata": {},
   "outputs": [],
   "source": [
    "D = nx.DiGraph()\n",
    "D.add_weighted_edges_from(weighted_edges)"
   ]
  },
  {
   "cell_type": "markdown",
   "id": "cb584391",
   "metadata": {},
   "source": [
    "Find the shortest path length. Since we don't know which direction the reindeers will face on the end tile \"E\", we have 4 shortest paths to calculate (1 for each end tile direction) and then choose the shortest one."
   ]
  },
  {
   "cell_type": "code",
   "execution_count": 130,
   "id": "77379b90",
   "metadata": {},
   "outputs": [],
   "source": [
    "path_lengths = []\n",
    "\n",
    "for end_node in end_nodes:\n",
    "    path_lengths.append(nx.shortest_path_length(D, source=start_node, target=end_node, weight='weight'))"
   ]
  },
  {
   "cell_type": "code",
   "execution_count": 131,
   "id": "8ddc5376",
   "metadata": {},
   "outputs": [
    {
     "data": {
      "text/plain": [
       "98416"
      ]
     },
     "execution_count": 131,
     "metadata": {},
     "output_type": "execute_result"
    }
   ],
   "source": [
    "min(path_lengths)"
   ]
  },
  {
   "cell_type": "markdown",
   "id": "85a8ab9c",
   "metadata": {},
   "source": [
    "## Puzzle 2"
   ]
  },
  {
   "cell_type": "markdown",
   "id": "02178a98",
   "metadata": {},
   "source": [
    "Now, we generate all the shortest paths between the start tile \"S\" and the end tile \"E\" and count the number of tiles that are traversed."
   ]
  },
  {
   "cell_type": "code",
   "execution_count": 132,
   "id": "6da7d4f1",
   "metadata": {},
   "outputs": [],
   "source": [
    "tiles_in_optimal_paths = set()\n",
    "\n",
    "for end_node in end_nodes:\n",
    "    for path in nx.all_shortest_paths(D, source=start_node, target=end_node, weight='weight'):\n",
    "        for node in path:\n",
    "            tiles_in_optimal_paths.add((node[0], node[1]))"
   ]
  },
  {
   "cell_type": "code",
   "execution_count": 133,
   "id": "159d46f2",
   "metadata": {},
   "outputs": [
    {
     "data": {
      "text/plain": [
       "471"
      ]
     },
     "execution_count": 133,
     "metadata": {},
     "output_type": "execute_result"
    }
   ],
   "source": [
    "len(tiles_in_optimal_paths)"
   ]
  }
 ],
 "metadata": {
  "kernelspec": {
   "display_name": "Python 3",
   "language": "python",
   "name": "python3"
  },
  "language_info": {
   "codemirror_mode": {
    "name": "ipython",
    "version": 3
   },
   "file_extension": ".py",
   "mimetype": "text/x-python",
   "name": "python",
   "nbconvert_exporter": "python",
   "pygments_lexer": "ipython3",
   "version": "3.12.4"
  }
 },
 "nbformat": 4,
 "nbformat_minor": 5
}
