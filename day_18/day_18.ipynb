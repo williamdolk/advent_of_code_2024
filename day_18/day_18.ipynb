{
 "cells": [
  {
   "cell_type": "markdown",
   "id": "1c960a1a",
   "metadata": {},
   "source": [
    "# Day 18\n",
    "## Puzzle 1"
   ]
  },
  {
   "cell_type": "code",
   "execution_count": 131,
   "id": "82e86319",
   "metadata": {},
   "outputs": [],
   "source": [
    "import numpy as np\n",
    "import networkx as nx"
   ]
  },
  {
   "cell_type": "code",
   "execution_count": 132,
   "id": "669f3fb4",
   "metadata": {},
   "outputs": [],
   "source": [
    "input_file = 'input_1.txt'\n",
    "# input_file = 'test_input_1.txt'"
   ]
  },
  {
   "cell_type": "code",
   "execution_count": 133,
   "id": "a6be0d4b",
   "metadata": {},
   "outputs": [],
   "source": [
    "with open(file=input_file, mode=\"r\") as file:\n",
    "    bytes_list = []\n",
    "\n",
    "    for line in file:\n",
    "        bytes_list.append([int(val) for val in line.strip().split(',')])\n",
    "\n",
    "    bytes_matrix = np.matrix(bytes_list)"
   ]
  },
  {
   "cell_type": "code",
   "execution_count": 134,
   "id": "861f31ae",
   "metadata": {},
   "outputs": [],
   "source": [
    "m = 71\n",
    "num_bytes_fallen = 1024\n",
    "\n",
    "if input_file.startswith('test'):\n",
    "    m = 7\n",
    "    num_bytes_fallen = 12\n",
    "\n",
    "map_matrix = np.matrix([['.']*m]*m)\n",
    "\n",
    "for byte_fallen in bytes_list[:num_bytes_fallen]:\n",
    "    map_matrix[*byte_fallen] = '#'"
   ]
  },
  {
   "cell_type": "code",
   "execution_count": 135,
   "id": "b81b2ce5",
   "metadata": {},
   "outputs": [
    {
     "data": {
      "text/plain": [
       "matrix([['.', '.', '.', ..., '.', '.', '.'],\n",
       "        ['#', '#', '.', ..., '.', '.', '.'],\n",
       "        ['.', '.', '.', ..., '.', '.', '.'],\n",
       "        ...,\n",
       "        ['.', '.', '.', ..., '.', '#', '.'],\n",
       "        ['.', '.', '.', ..., '.', '#', '.'],\n",
       "        ['.', '.', '.', ..., '.', '.', '.']], dtype='<U1')"
      ]
     },
     "execution_count": 135,
     "metadata": {},
     "output_type": "execute_result"
    }
   ],
   "source": [
    "map_matrix.T"
   ]
  },
  {
   "cell_type": "code",
   "execution_count": 136,
   "id": "7777be13",
   "metadata": {},
   "outputs": [],
   "source": [
    "edges = set()\n",
    "\n",
    "for i in range(m):\n",
    "    for j in range(m):\n",
    "        current_node_value = map_matrix[i, j]\n",
    "\n",
    "        if current_node_value == '.':\n",
    "            if j + 1 < m:\n",
    "                current_right_node_value = map_matrix[i, j + 1]\n",
    "\n",
    "                if current_right_node_value == '.':\n",
    "                    edges.add(((i, j), (i, j + 1)))\n",
    "                \n",
    "            if j - 1 >= 0:\n",
    "                current_left_node_value = map_matrix[i, j - 1]\n",
    "\n",
    "                if current_left_node_value == '.':\n",
    "                    edges.add(((i, j), (i, j - 1)))\n",
    "\n",
    "            if i + 1 < m:\n",
    "                current_bottom_node_value = map_matrix[i + 1, j]\n",
    "\n",
    "                if current_bottom_node_value == '.':\n",
    "                    edges.add(((i, j), (i + 1, j)))\n",
    "\n",
    "            if i - 1 >= 0:\n",
    "                current_top_node_value = map_matrix[i - 1, j]\n",
    "\n",
    "                if current_top_node_value == '.':\n",
    "                    edges.add(((i, j), (i - 1, j)))"
   ]
  },
  {
   "cell_type": "code",
   "execution_count": 137,
   "id": "749db074",
   "metadata": {},
   "outputs": [],
   "source": [
    "G = nx.Graph()\n",
    "G.add_edges_from(edges)"
   ]
  },
  {
   "cell_type": "code",
   "execution_count": 138,
   "id": "61620a94",
   "metadata": {},
   "outputs": [
    {
     "data": {
      "text/plain": [
       "404"
      ]
     },
     "execution_count": 138,
     "metadata": {},
     "output_type": "execute_result"
    }
   ],
   "source": [
    "nx.shortest_path_length(G, source=(0, 0), target=(m - 1, m - 1))"
   ]
  },
  {
   "cell_type": "markdown",
   "id": "bf764de2",
   "metadata": {},
   "source": [
    "## Puzzle 2"
   ]
  },
  {
   "cell_type": "code",
   "execution_count": 139,
   "id": "dcce7062",
   "metadata": {},
   "outputs": [],
   "source": [
    "G_copy = G.copy()\n",
    "first_cutting_node = None\n",
    "\n",
    "for current_byte in bytes_list[num_bytes_fallen:]:\n",
    "    current_byte_node = tuple(current_byte)\n",
    "\n",
    "    if current_byte_node in G_copy.nodes:\n",
    "        G_copy.remove_node(current_byte_node)\n",
    "\n",
    "        if not nx.has_path(G_copy, source=(0, 0), target=(m - 1, m - 1)):\n",
    "            first_cutting_node = current_byte_node\n",
    "            break"
   ]
  },
  {
   "cell_type": "code",
   "execution_count": 140,
   "id": "dbfdd627",
   "metadata": {},
   "outputs": [
    {
     "data": {
      "text/plain": [
       "(27, 60)"
      ]
     },
     "execution_count": 140,
     "metadata": {},
     "output_type": "execute_result"
    }
   ],
   "source": [
    "first_cutting_node"
   ]
  },
  {
   "cell_type": "code",
   "execution_count": null,
   "id": "bd5eba8e",
   "metadata": {},
   "outputs": [],
   "source": [
    "nx.draw(G, pos={node: (node[0], -node[1]) for node in G.nodes}, with_labels=True)"
   ]
  },
  {
   "cell_type": "code",
   "execution_count": null,
   "id": "80642d18",
   "metadata": {},
   "outputs": [],
   "source": []
  }
 ],
 "metadata": {
  "kernelspec": {
   "display_name": "Python 3",
   "language": "python",
   "name": "python3"
  },
  "language_info": {
   "codemirror_mode": {
    "name": "ipython",
    "version": 3
   },
   "file_extension": ".py",
   "mimetype": "text/x-python",
   "name": "python",
   "nbconvert_exporter": "python",
   "pygments_lexer": "ipython3",
   "version": "3.12.4"
  }
 },
 "nbformat": 4,
 "nbformat_minor": 5
}
