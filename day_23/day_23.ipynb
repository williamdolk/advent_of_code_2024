{
 "cells": [
  {
   "cell_type": "markdown",
   "id": "8c13dd9b",
   "metadata": {},
   "source": [
    "# Day 23\n",
    "## Puzzle 1"
   ]
  },
  {
   "cell_type": "code",
   "execution_count": 74,
   "id": "2d0d3ee6",
   "metadata": {},
   "outputs": [],
   "source": [
    "import numpy as np\n",
    "import networkx as nx"
   ]
  },
  {
   "cell_type": "code",
   "execution_count": 75,
   "id": "df09a5b7",
   "metadata": {},
   "outputs": [],
   "source": [
    "input_file = 'input_1.txt'\n",
    "# input_file = 'test_input_1.txt'"
   ]
  },
  {
   "cell_type": "markdown",
   "id": "f99751e5",
   "metadata": {},
   "source": [
    "Read the pairwise computer connections input."
   ]
  },
  {
   "cell_type": "code",
   "execution_count": 76,
   "id": "e4bbb29d",
   "metadata": {},
   "outputs": [],
   "source": [
    "with open(file=input_file, mode=\"r\") as file:\n",
    "    pairwise_computer_connections = []\n",
    "\n",
    "    for line in file:\n",
    "        pairwise_computer_connections.append(tuple(line.strip().split('-')))"
   ]
  },
  {
   "cell_type": "code",
   "execution_count": 77,
   "id": "463b2bba",
   "metadata": {},
   "outputs": [
    {
     "data": {
      "text/plain": [
       "[('xv', 'tg'),\n",
       " ('ss', 'xs'),\n",
       " ('le', 'kn'),\n",
       " ('oo', 'bk'),\n",
       " ('ro', 'ss'),\n",
       " ('lx', 'ox'),\n",
       " ('nr', 'xt'),\n",
       " ('vq', 'xw'),\n",
       " ('kg', 'xs'),\n",
       " ('xj', 'hl')]"
      ]
     },
     "execution_count": 77,
     "metadata": {},
     "output_type": "execute_result"
    }
   ],
   "source": [
    "pairwise_computer_connections[:10]"
   ]
  },
  {
   "cell_type": "markdown",
   "id": "007b6239",
   "metadata": {},
   "source": [
    "Create a graph by using the computer connections as edges."
   ]
  },
  {
   "cell_type": "code",
   "execution_count": 78,
   "id": "047256bf",
   "metadata": {},
   "outputs": [],
   "source": [
    "G = nx.Graph()\n",
    "G.add_edges_from(pairwise_computer_connections)"
   ]
  },
  {
   "cell_type": "markdown",
   "id": "b036f987",
   "metadata": {},
   "source": [
    "Finding a LAN party of size $n$ is the same as finding a [clique](https://en.wikipedia.org/wiki/Clique_(graph_theory)) of size $n$ in the graph. Find the cliques of size 3 and check how many of them contains at least one computer name starting with \"t\"."
   ]
  },
  {
   "cell_type": "code",
   "execution_count": 79,
   "id": "543d6524",
   "metadata": {},
   "outputs": [],
   "source": [
    "total = 0\n",
    "\n",
    "for clique in nx.enumerate_all_cliques(G):\n",
    "    if len(clique) == 3:\n",
    "        for computer in clique:\n",
    "            if computer.startswith('t'):\n",
    "                total += 1\n",
    "                break\n",
    "\n",
    "    elif len(clique) > 3:\n",
    "        break"
   ]
  },
  {
   "cell_type": "code",
   "execution_count": 80,
   "id": "5d9b5fa4",
   "metadata": {},
   "outputs": [
    {
     "data": {
      "text/plain": [
       "1175"
      ]
     },
     "execution_count": 80,
     "metadata": {},
     "output_type": "execute_result"
    }
   ],
   "source": [
    "total"
   ]
  },
  {
   "cell_type": "markdown",
   "id": "50cfe4af",
   "metadata": {},
   "source": [
    "## Puzzle 2"
   ]
  },
  {
   "cell_type": "markdown",
   "id": "5784df92",
   "metadata": {},
   "source": [
    "Find the largest LAN party, that is, the largest clique, and sort its computer names in alphabetical order and join them together with \",\"."
   ]
  },
  {
   "cell_type": "code",
   "execution_count": 81,
   "id": "af31b561",
   "metadata": {},
   "outputs": [],
   "source": [
    "max_clique_size = 0\n",
    "max_clique = None\n",
    "\n",
    "for clique in nx.find_cliques(G):\n",
    "    if len(clique) > max_clique_size:\n",
    "        max_clique = clique\n",
    "        max_clique_size = len(clique)\n",
    "\n",
    "max_clique.sort()\n",
    "password = ','.join(max_clique)"
   ]
  },
  {
   "cell_type": "code",
   "execution_count": 82,
   "id": "b3eef19e",
   "metadata": {},
   "outputs": [
    {
     "data": {
      "text/plain": [
       "'bw,dr,du,ha,mm,ov,pj,qh,tz,uv,vq,wq,xw'"
      ]
     },
     "execution_count": 82,
     "metadata": {},
     "output_type": "execute_result"
    }
   ],
   "source": [
    "password"
   ]
  }
 ],
 "metadata": {
  "kernelspec": {
   "display_name": "Python 3",
   "language": "python",
   "name": "python3"
  },
  "language_info": {
   "codemirror_mode": {
    "name": "ipython",
    "version": 3
   },
   "file_extension": ".py",
   "mimetype": "text/x-python",
   "name": "python",
   "nbconvert_exporter": "python",
   "pygments_lexer": "ipython3",
   "version": "3.12.4"
  }
 },
 "nbformat": 4,
 "nbformat_minor": 5
}
