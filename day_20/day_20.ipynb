{
 "cells": [
  {
   "cell_type": "markdown",
   "id": "0f2502ca",
   "metadata": {},
   "source": [
    "# Day 20\n",
    "## Puzzle 1"
   ]
  },
  {
   "cell_type": "code",
   "execution_count": 46,
   "id": "661fc7cf",
   "metadata": {},
   "outputs": [],
   "source": [
    "import numpy as np\n",
    "import networkx as nx\n",
    "from collections import defaultdict\n",
    "from itertools import combinations\n",
    "from tqdm import tqdm\n",
    "import math"
   ]
  },
  {
   "cell_type": "code",
   "execution_count": 47,
   "id": "85182940",
   "metadata": {},
   "outputs": [],
   "source": [
    "input_file = 'input_1.txt'\n",
    "# input_file = 'test_input_1.txt'"
   ]
  },
  {
   "cell_type": "markdown",
   "id": "ce24877f",
   "metadata": {},
   "source": [
    "Read the input race map."
   ]
  },
  {
   "cell_type": "code",
   "execution_count": 48,
   "id": "f5111a6d",
   "metadata": {},
   "outputs": [],
   "source": [
    "with open(file=input_file, mode=\"r\") as file:\n",
    "    race_map = []\n",
    "\n",
    "    for line in file:\n",
    "        race_map.append(list(line.strip()))\n",
    "\n",
    "    race_map_matrix = np.matrix(race_map)"
   ]
  },
  {
   "cell_type": "code",
   "execution_count": 49,
   "id": "4431ffdd",
   "metadata": {},
   "outputs": [
    {
     "name": "stdout",
     "output_type": "stream",
     "text": [
      "[['#' '#' '#' ... '#' '#' '#']\n",
      " ['#' '.' '.' ... '.' '.' '#']\n",
      " ['#' '.' '#' ... '#' '.' '#']\n",
      " ...\n",
      " ['#' '.' '#' ... '#' '.' '#']\n",
      " ['#' '.' '.' ... '.' '.' '#']\n",
      " ['#' '#' '#' ... '#' '#' '#']]\n"
     ]
    }
   ],
   "source": [
    "print(race_map_matrix)"
   ]
  },
  {
   "cell_type": "markdown",
   "id": "a372235e",
   "metadata": {},
   "source": [
    "Connect walkable nodes by edges. Also, we add the possible cheat edges (passages) to a list."
   ]
  },
  {
   "cell_type": "code",
   "execution_count": 50,
   "id": "b3057a97",
   "metadata": {},
   "outputs": [],
   "source": [
    "m, n = race_map_matrix.shape\n",
    "start_node = None\n",
    "end_node = None\n",
    "edges = []\n",
    "cheat_edges = set()\n",
    "\n",
    "for i in range(m):\n",
    "    for j in range(n):\n",
    "        current_node_value = race_map_matrix[i, j]\n",
    "\n",
    "        if current_node_value == 'S':\n",
    "            start_node = (i, j)\n",
    "\n",
    "        elif current_node_value == 'E':\n",
    "            end_node = (i, j)\n",
    "\n",
    "        if current_node_value != '#':\n",
    "            if j + 1 < m:\n",
    "                current_east_node_value = race_map_matrix[i, j + 1]\n",
    "\n",
    "                if current_east_node_value != '#':\n",
    "                    edges.append(((i, j), (i, j + 1)))\n",
    "\n",
    "                elif current_east_node_value == '#' and j + 2 < m:\n",
    "                    current_east_cheat_node_value = race_map_matrix[i, j + 2]\n",
    "\n",
    "                    if current_east_cheat_node_value != '#' and ((i, j), (i, j + 2)) not in cheat_edges and ((i, j + 2), (i, j)) not in cheat_edges:\n",
    "                        cheat_edges.add(((i, j), (i, j + 2)))\n",
    "                \n",
    "            if j - 1 >= 0:\n",
    "                current_west_node_value = race_map_matrix[i, j - 1]\n",
    "\n",
    "                if current_west_node_value != '#':\n",
    "                    edges.append(((i, j), (i, j - 1)))\n",
    "\n",
    "                elif current_west_node_value == '#' and j - 2 >= 0:\n",
    "                    current_west_cheat_node_value = race_map_matrix[i, j - 2]\n",
    "\n",
    "                    if current_west_cheat_node_value != '#' and ((i, j), (i, j - 2)) not in cheat_edges and ((i, j - 2), (i, j)) not in cheat_edges:\n",
    "                        cheat_edges.add(((i, j), (i, j - 2)))\n",
    "\n",
    "            if i + 1 < n:\n",
    "                current_south_node_value = race_map_matrix[i + 1, j]\n",
    "\n",
    "                if current_south_node_value != '#':\n",
    "                    edges.append(((i, j), (i + 1, j)))\n",
    "\n",
    "                elif current_south_node_value == '#' and i + 2 < n:\n",
    "                    current_south_cheat_node_value = race_map_matrix[i + 2, j]\n",
    "\n",
    "                    if current_south_cheat_node_value != '#' and ((i, j), (i + 2, j)) not in cheat_edges and ((i + 2, j), (i, j)) not in cheat_edges:\n",
    "                        cheat_edges.add(((i, j), (i + 2, j)))\n",
    "\n",
    "            if i - 1 >= 0:\n",
    "                current_north_node_value = race_map_matrix[i - 1, j]\n",
    "\n",
    "                if current_north_node_value != '#':\n",
    "                    edges.append(((i, j), (i - 1, j)))\n",
    "\n",
    "                elif current_north_node_value == '#' and i - 2 >= 0:\n",
    "                    current_north_cheat_node_value = race_map_matrix[i - 2, j]\n",
    "\n",
    "                    if current_north_cheat_node_value != '#' and ((i, j), (i - 2, j)) not in cheat_edges and ((i - 2, j), (i, j)) not in cheat_edges:\n",
    "                        cheat_edges.add(((i, j), (i - 2, j)))\n",
    "\n",
    "cheat_edges = list(cheat_edges)"
   ]
  },
  {
   "cell_type": "markdown",
   "id": "bf09e547",
   "metadata": {},
   "source": [
    "Create a graph from the edges (not the cheat edges)."
   ]
  },
  {
   "cell_type": "code",
   "execution_count": 51,
   "id": "36b18a59",
   "metadata": {},
   "outputs": [],
   "source": [
    "G = nx.Graph()\n",
    "G.add_edges_from(edges)"
   ]
  },
  {
   "cell_type": "markdown",
   "id": "dbea1c00",
   "metadata": {},
   "source": [
    "Calculate the race length (even though we won't use the result)."
   ]
  },
  {
   "cell_type": "code",
   "execution_count": 52,
   "id": "d79ef7c4",
   "metadata": {},
   "outputs": [],
   "source": [
    "race_length = nx.shortest_path_length(G, source=start_node, target=end_node)\n",
    "race_length"
   ]
  },
  {
   "cell_type": "markdown",
   "id": "2ce3178f",
   "metadata": {},
   "source": [
    "Calculate the \"regular\" path length between the nodes of the cheat edge and subtract 2 (the length of the cheat path)."
   ]
  },
  {
   "cell_type": "code",
   "execution_count": 53,
   "id": "bcd91715",
   "metadata": {},
   "outputs": [],
   "source": [
    "number_of_ok_cheats = 0\n",
    "saved_time_counter = defaultdict(int)\n",
    "\n",
    "for cheat_edge in cheat_edges:\n",
    "    saved_time = nx.shortest_path_length(G, source=cheat_edge[0], target=cheat_edge[1]) - 2\n",
    "    saved_time_counter[saved_time] += 1\n",
    "    \n",
    "    if saved_time >= 100:\n",
    "        number_of_ok_cheats += 1"
   ]
  },
  {
   "cell_type": "code",
   "execution_count": 54,
   "id": "9be0d01f",
   "metadata": {},
   "outputs": [
    {
     "data": {
      "text/plain": [
       "[(2, 959),\n",
       " (4, 959),\n",
       " (6, 257),\n",
       " (8, 420),\n",
       " (10, 193),\n",
       " (12, 293),\n",
       " (14, 113),\n",
       " (16, 194),\n",
       " (18, 80),\n",
       " (20, 165),\n",
       " (22, 85),\n",
       " (24, 149),\n",
       " (26, 72),\n",
       " (28, 119),\n",
       " (30, 54)]"
      ]
     },
     "execution_count": 54,
     "metadata": {},
     "output_type": "execute_result"
    }
   ],
   "source": [
    "sorted(saved_time_counter.items())[:15]"
   ]
  },
  {
   "cell_type": "code",
   "execution_count": 55,
   "id": "0090b146",
   "metadata": {},
   "outputs": [
    {
     "data": {
      "text/plain": [
       "1360"
      ]
     },
     "execution_count": 55,
     "metadata": {},
     "output_type": "execute_result"
    }
   ],
   "source": [
    "number_of_ok_cheats"
   ]
  },
  {
   "cell_type": "markdown",
   "id": "f431bd46",
   "metadata": {},
   "source": [
    "## Puzzle 2"
   ]
  },
  {
   "cell_type": "markdown",
   "id": "fcd7fee7",
   "metadata": {},
   "source": [
    "Now, we calculate the length of the cheat path using the Manhattan norm, between all pairs of nodes on the regular path. If the cheat path between a pair of nodes is at most 20 picoseconds (and at least 2 picoseconds) and shorter than the regular path between the nodes, it is a valid cheat path."
   ]
  },
  {
   "cell_type": "markdown",
   "id": "be1fcd09",
   "metadata": {},
   "source": [
    "PS. I know this code can be optimized further... Now it takes about 45 minutes to run."
   ]
  },
  {
   "cell_type": "code",
   "execution_count": 56,
   "id": "d5a10e30",
   "metadata": {},
   "outputs": [
    {
     "name": "stderr",
     "output_type": "stream",
     "text": [
      "100%|██████████| 44297578/44297578 [42:03<00:00, 17556.34it/s] \n"
     ]
    }
   ],
   "source": [
    "number_of_ok_cheats_puzzle_2 = 0\n",
    "saved_time_counter_puzzle_2 = defaultdict(int)\n",
    "\n",
    "for n1, n2 in tqdm(combinations(G.nodes, 2), total=math.comb(len(G.nodes), 2)):\n",
    "    manhattan_distance = int(np.linalg.norm(x=np.array(n1) - np.array(n2), ord=1))\n",
    "\n",
    "    if 2 <= manhattan_distance <= 20:\n",
    "        race_map_shortest_path = nx.shortest_path_length(G, source=n1, target=n2)\n",
    "        saved_time = race_map_shortest_path - manhattan_distance\n",
    "\n",
    "        if saved_time > 0:\n",
    "            saved_time_counter_puzzle_2[saved_time] += 1\n",
    "\n",
    "            if saved_time >= 100:\n",
    "                number_of_ok_cheats_puzzle_2 += 1"
   ]
  },
  {
   "cell_type": "code",
   "execution_count": 57,
   "id": "0fde3bda",
   "metadata": {},
   "outputs": [
    {
     "data": {
      "text/plain": [
       "[(2, 16817),\n",
       " (4, 44511),\n",
       " (6, 14768),\n",
       " (8, 32978),\n",
       " (10, 13358),\n",
       " (12, 27690),\n",
       " (14, 12202),\n",
       " (16, 23810),\n",
       " (18, 11229),\n",
       " (20, 20320),\n",
       " (22, 10486),\n",
       " (24, 18146),\n",
       " (26, 9810),\n",
       " (28, 18031),\n",
       " (30, 9384)]"
      ]
     },
     "execution_count": 57,
     "metadata": {},
     "output_type": "execute_result"
    }
   ],
   "source": [
    "sorted(saved_time_counter_puzzle_2.items())[:15]"
   ]
  },
  {
   "cell_type": "code",
   "execution_count": 58,
   "id": "569253d4",
   "metadata": {},
   "outputs": [
    {
     "data": {
      "text/plain": [
       "1005476"
      ]
     },
     "execution_count": 58,
     "metadata": {},
     "output_type": "execute_result"
    }
   ],
   "source": [
    "number_of_ok_cheats_puzzle_2"
   ]
  }
 ],
 "metadata": {
  "kernelspec": {
   "display_name": "Python 3",
   "language": "python",
   "name": "python3"
  },
  "language_info": {
   "codemirror_mode": {
    "name": "ipython",
    "version": 3
   },
   "file_extension": ".py",
   "mimetype": "text/x-python",
   "name": "python",
   "nbconvert_exporter": "python",
   "pygments_lexer": "ipython3",
   "version": "3.12.4"
  }
 },
 "nbformat": 4,
 "nbformat_minor": 5
}
