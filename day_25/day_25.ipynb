{
 "cells": [
  {
   "cell_type": "markdown",
   "id": "59ca2037",
   "metadata": {},
   "source": [
    "# Day 25\n",
    "## Puzzle 1"
   ]
  },
  {
   "cell_type": "code",
   "execution_count": 63,
   "id": "9c3c92ec",
   "metadata": {},
   "outputs": [],
   "source": [
    "import numpy as np\n",
    "from itertools import product"
   ]
  },
  {
   "cell_type": "code",
   "execution_count": 64,
   "id": "68a71d1f",
   "metadata": {},
   "outputs": [],
   "source": [
    "input_file = 'input_1.txt'\n",
    "# input_file = 'test_input_1.txt'"
   ]
  },
  {
   "cell_type": "code",
   "execution_count": 65,
   "id": "0e7167a2",
   "metadata": {},
   "outputs": [],
   "source": [
    "with open(file=input_file, mode=\"r\") as file:\n",
    "    locks = []\n",
    "    keys = []\n",
    "\n",
    "    for item in file.read().split('\\n\\n'):\n",
    "        item_lines = []\n",
    "        \n",
    "        for item_line in item.split('\\n'):\n",
    "            item_lines.append([int(character == '#') for character in item_line])\n",
    "\n",
    "        item_matrix = np.matrix(item_lines)\n",
    "        \n",
    "        if item_matrix[0, :].sum() == item_matrix.shape[1]:\n",
    "            locks.append(item_matrix[1:, :].sum(axis=0))\n",
    "\n",
    "        elif item_matrix[-1, :].sum() == item_matrix.shape[1]:\n",
    "            keys.append(item_matrix[0:-1, :].sum(axis=0))"
   ]
  },
  {
   "cell_type": "code",
   "execution_count": 66,
   "id": "0b0828b0",
   "metadata": {},
   "outputs": [],
   "source": [
    "number_of_fitting_keys = 0\n",
    "\n",
    "for lock, key in product(locks, keys):\n",
    "    if (lock + key <= 5).all():\n",
    "        number_of_fitting_keys += 1"
   ]
  },
  {
   "cell_type": "code",
   "execution_count": 67,
   "id": "1cb5e7a5",
   "metadata": {},
   "outputs": [
    {
     "data": {
      "text/plain": [
       "2885"
      ]
     },
     "execution_count": 67,
     "metadata": {},
     "output_type": "execute_result"
    }
   ],
   "source": [
    "number_of_fitting_keys"
   ]
  },
  {
   "cell_type": "markdown",
   "id": "ce7ded0f",
   "metadata": {},
   "source": [
    "## Puzzle 2"
   ]
  },
  {
   "cell_type": "markdown",
   "id": "69c78315",
   "metadata": {},
   "source": [
    "NOT DONE!"
   ]
  },
  {
   "cell_type": "code",
   "execution_count": null,
   "id": "6d14419b",
   "metadata": {},
   "outputs": [],
   "source": []
  }
 ],
 "metadata": {
  "kernelspec": {
   "display_name": "Python 3",
   "language": "python",
   "name": "python3"
  },
  "language_info": {
   "codemirror_mode": {
    "name": "ipython",
    "version": 3
   },
   "file_extension": ".py",
   "mimetype": "text/x-python",
   "name": "python",
   "nbconvert_exporter": "python",
   "pygments_lexer": "ipython3",
   "version": "3.12.4"
  }
 },
 "nbformat": 4,
 "nbformat_minor": 5
}
