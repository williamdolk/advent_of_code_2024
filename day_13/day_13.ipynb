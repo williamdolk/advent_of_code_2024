{
 "cells": [
  {
   "cell_type": "markdown",
   "id": "1f868d73",
   "metadata": {},
   "source": [
    "# Day 13\n",
    "## Puzzle 1"
   ]
  },
  {
   "cell_type": "code",
   "execution_count": 163,
   "id": "a4cd0d86",
   "metadata": {},
   "outputs": [],
   "source": [
    "import numpy as np\n",
    "from numpy.linalg import LinAlgError\n",
    "import re"
   ]
  },
  {
   "cell_type": "code",
   "execution_count": 164,
   "id": "96f1d028",
   "metadata": {},
   "outputs": [],
   "source": [
    "input_file = 'input_1.txt'\n",
    "# input_file = 'test_input_1.txt'"
   ]
  },
  {
   "cell_type": "markdown",
   "id": "cceff595",
   "metadata": {},
   "source": [
    "Read the game input equations."
   ]
  },
  {
   "cell_type": "code",
   "execution_count": 165,
   "id": "2bb06a08",
   "metadata": {},
   "outputs": [],
   "source": [
    "with open(file=input_file, mode=\"r\") as file:\n",
    "    game_equations = []\n",
    "    text = file.read()\n",
    "    \n",
    "    for game in text.split('\\n\\n'):  # Each game is separated by a blank line.\n",
    "        values = re.findall(r'[-+]?(?:\\d{1,3}(?:,\\d{3})+|\\d+)(?:\\.\\d+)?', game)  # Extract the numbers and the signs (I don't think negative numbers will show up, but still...)\n",
    "        formatted_values = []\n",
    "        \n",
    "        for value in values:\n",
    "            if value.startswith('+'):\n",
    "                formatted_values.append(int(value.split('+')[-1]))\n",
    "\n",
    "            elif value.startswith('-'):\n",
    "                formatted_values.append(-int(value.split('-')[-1]))\n",
    "\n",
    "            else:\n",
    "                formatted_values.append(int(value))\n",
    "\n",
    "        a_button = np.array(formatted_values[:2])\n",
    "        b_button = np.array(formatted_values[2:4])\n",
    "        A = np.matrix([a_button, b_button]).T  # Coefficient A matrix of the linear equation Ax = b.\n",
    "        prize = np.array(formatted_values[4:])  # Right-hand side vector b of the linear equation Ax = b.\n",
    "        game_equations.append([A, prize])\n"
   ]
  },
  {
   "cell_type": "code",
   "execution_count": 166,
   "id": "ac46c123",
   "metadata": {},
   "outputs": [
    {
     "data": {
      "text/plain": [
       "[[matrix([[49, 35],\n",
       "          [27, 65]]),\n",
       "  array([4326, 4898])],\n",
       " [matrix([[82, 20],\n",
       "          [64, 67]]),\n",
       "  array([ 6818, 10409])],\n",
       " [matrix([[75, 95],\n",
       "          [72, 15]]),\n",
       "  array([8360, 4749])],\n",
       " [matrix([[59, 15],\n",
       "          [26, 29]]),\n",
       "  array([7401, 3032])],\n",
       " [matrix([[77, 15],\n",
       "          [38, 46]]),\n",
       "  array([13582, 10664])],\n",
       " [matrix([[39, 27],\n",
       "          [11, 40]]),\n",
       "  array([1367, 2880])],\n",
       " [matrix([[50, 20],\n",
       "          [28, 55]]),\n",
       "  array([7220,  383])],\n",
       " [matrix([[63, 21],\n",
       "          [63, 97]]),\n",
       "  array([ 4200, 10964])],\n",
       " [matrix([[60, 13],\n",
       "          [31, 52]]),\n",
       "  array([5226, 4907])],\n",
       " [matrix([[13, 84],\n",
       "          [96, 22]]),\n",
       "  array([ 7154, 10948])]]"
      ]
     },
     "execution_count": 166,
     "metadata": {},
     "output_type": "execute_result"
    }
   ],
   "source": [
    "game_equations[:10]"
   ]
  },
  {
   "cell_type": "markdown",
   "id": "036a3834",
   "metadata": {},
   "source": [
    "For each game, we now solve the linear equation system $A\\vec{x}=\\vec{b}$. The first column of $A$ represent pressing button \"A\", and the second column of $A$ represents pressing the button \"B\". The elements of the solution vector $\\vec{x}$ represents the number of times we need to press the buttons in order to get the values in the prize vector $\\vec{b}$. If no solution exists, we continue to the next game. Also, the values of $\\vec{x}$ must all be integers and non-negative. All solution vectors are multiplied by the token cost vector $\\begin{pmatrix} 3 & 1 \\end{pmatrix}$ and the result is added to the total to get the final result."
   ]
  },
  {
   "cell_type": "code",
   "execution_count": 167,
   "id": "72eef13e",
   "metadata": {},
   "outputs": [],
   "source": [
    "tokens_needed = 0\n",
    "\n",
    "for game_equation in game_equations:\n",
    "    try:\n",
    "        solution = np.linalg.solve(game_equation[0], game_equation[1])\n",
    "\n",
    "    except LinAlgError:\n",
    "        print('No solution exists for this equation!')\n",
    "        continue\n",
    "\n",
    "    token_cost = np.array([3, 1])  # Cost for pressing buttons \"A\" and \"B\".\n",
    "    tolerance = 0.0001\n",
    "    integer_solution = all(abs(val - round(val)) <= tolerance for val in solution)  # We consider values within a certain tolerance as integers.\n",
    "    non_negative_solution = all(solution >= 0)  # All values must be non-negative.\n",
    "\n",
    "    if integer_solution and non_negative_solution:\n",
    "        tokens_needed += solution@token_cost"
   ]
  },
  {
   "cell_type": "code",
   "execution_count": 168,
   "id": "aa7ec837",
   "metadata": {},
   "outputs": [
    {
     "data": {
      "text/plain": [
       "36250"
      ]
     },
     "execution_count": 168,
     "metadata": {},
     "output_type": "execute_result"
    }
   ],
   "source": [
    "int(tokens_needed)"
   ]
  },
  {
   "cell_type": "markdown",
   "id": "5998fcfa",
   "metadata": {},
   "source": [
    "## Puzzle 2"
   ]
  },
  {
   "cell_type": "markdown",
   "id": "9a125767",
   "metadata": {},
   "source": [
    "This time, the only difference from part one is that we add the vector $10^{13} \\begin{pmatrix} 1 & 1 \\end{pmatrix}$ to the price vector $\\vec{b}$ before solving."
   ]
  },
  {
   "cell_type": "code",
   "execution_count": 169,
   "id": "22332246",
   "metadata": {},
   "outputs": [],
   "source": [
    "tokens_needed = 0\n",
    "\n",
    "for game_equation in game_equations:\n",
    "    updated_prize = game_equation[1] + 10**13*np.array([1, 1])\n",
    "\n",
    "    try:\n",
    "        solution = np.linalg.solve(game_equation[0], updated_prize)\n",
    "\n",
    "    except LinAlgError:\n",
    "        print('No solution exists for this equation!')\n",
    "        continue\n",
    "\n",
    "    token_cost = np.array([3, 1])\n",
    "    tolerance = 0.0001\n",
    "    integer_solution = all(abs(val - round(val)) <= tolerance for val in solution)\n",
    "    non_negative_solution = all(solution >= 0)\n",
    "\n",
    "    if integer_solution and non_negative_solution:\n",
    "        tokens_needed += solution@token_cost"
   ]
  },
  {
   "cell_type": "code",
   "execution_count": 170,
   "id": "2a1f9c2c",
   "metadata": {},
   "outputs": [
    {
     "data": {
      "text/plain": [
       "83232379451012"
      ]
     },
     "execution_count": 170,
     "metadata": {},
     "output_type": "execute_result"
    }
   ],
   "source": [
    "int(tokens_needed)"
   ]
  }
 ],
 "metadata": {
  "kernelspec": {
   "display_name": "Python 3",
   "language": "python",
   "name": "python3"
  },
  "language_info": {
   "codemirror_mode": {
    "name": "ipython",
    "version": 3
   },
   "file_extension": ".py",
   "mimetype": "text/x-python",
   "name": "python",
   "nbconvert_exporter": "python",
   "pygments_lexer": "ipython3",
   "version": "3.12.4"
  }
 },
 "nbformat": 4,
 "nbformat_minor": 5
}
