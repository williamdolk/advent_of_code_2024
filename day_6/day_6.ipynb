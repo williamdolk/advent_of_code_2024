{
 "cells": [
  {
   "cell_type": "markdown",
   "id": "b6426151",
   "metadata": {},
   "source": [
    "# Day 6\n",
    "## Puzzle 1"
   ]
  },
  {
   "cell_type": "code",
   "execution_count": 340,
   "id": "9fa8b93a",
   "metadata": {},
   "outputs": [],
   "source": [
    "import numpy as np"
   ]
  },
  {
   "cell_type": "code",
   "execution_count": 341,
   "id": "4742d9ae",
   "metadata": {},
   "outputs": [],
   "source": [
    "# input_file = 'input_1.txt'\n",
    "input_file = 'test_input_1.txt'"
   ]
  },
  {
   "cell_type": "markdown",
   "id": "3a3eb27d",
   "metadata": {},
   "source": [
    "Read input map and look at the first 10 lines."
   ]
  },
  {
   "cell_type": "code",
   "execution_count": 342,
   "id": "df960a3d",
   "metadata": {},
   "outputs": [],
   "source": [
    "with open(file=input_file, mode='r') as file:\n",
    "    lines = []\n",
    "\n",
    "    for line in file:\n",
    "        lines.append(list(line.strip()))"
   ]
  },
  {
   "cell_type": "code",
   "execution_count": 343,
   "id": "b4b72033",
   "metadata": {},
   "outputs": [
    {
     "data": {
      "text/plain": [
       "[['.', '.', '.', '.', '#', '.', '.', '.', '.', '.'],\n",
       " ['.', '.', '.', '.', '.', '.', '.', '.', '.', '#'],\n",
       " ['.', '.', '.', '.', '.', '.', '.', '.', '.', '.'],\n",
       " ['.', '.', '#', '.', '.', '.', '.', '.', '.', '.'],\n",
       " ['.', '.', '.', '.', '.', '.', '.', '#', '.', '.'],\n",
       " ['.', '.', '.', '.', '.', '.', '.', '.', '.', '.'],\n",
       " ['.', '#', '.', '.', '^', '.', '.', '.', '.', '.'],\n",
       " ['.', '.', '.', '.', '.', '.', '.', '.', '#', '.'],\n",
       " ['#', '.', '.', '.', '.', '.', '.', '.', '.', '.'],\n",
       " ['.', '.', '.', '.', '.', '.', '#', '.', '.', '.']]"
      ]
     },
     "execution_count": 343,
     "metadata": {},
     "output_type": "execute_result"
    }
   ],
   "source": [
    "lines[:10]"
   ]
  },
  {
   "cell_type": "markdown",
   "id": "4770a784",
   "metadata": {},
   "source": [
    "Find starting position."
   ]
  },
  {
   "cell_type": "code",
   "execution_count": 344,
   "id": "7fe3cbfd",
   "metadata": {},
   "outputs": [],
   "source": [
    "starting_position = None\n",
    "m = len(lines)\n",
    "n = len(lines[0])\n",
    "\n",
    "for i in range(m):\n",
    "    for j in range(n):\n",
    "        if lines[i][j] == '^':\n",
    "            starting_position = (i, j)"
   ]
  },
  {
   "cell_type": "markdown",
   "id": "38c3335b",
   "metadata": {},
   "source": [
    "Now, let's walk along the guards path and count the number of distinct visited positions."
   ]
  },
  {
   "cell_type": "code",
   "execution_count": 345,
   "id": "820aa990",
   "metadata": {},
   "outputs": [],
   "source": [
    "on_map = True\n",
    "current_position = starting_position\n",
    "directions = [(-1, 0), (0, 1), (1, 0), (0, -1)]  # Up, right, down, left.\n",
    "direction_index = 0  # Starting direction is up (the 0:th element of directions).\n",
    "positions = {current_position}  # The set of distinct visited positions.\n",
    "\n",
    "while on_map:\n",
    "    next_position = (current_position[0] + directions[direction_index][0], current_position[1] + directions[direction_index][1])\n",
    "\n",
    "    if not (0 <= next_position[0] < m) or not (0 <= next_position[1] < n):  # Check if next_position is within the map boundaries.\n",
    "        on_map = False\n",
    "        continue\n",
    "\n",
    "    next_position_value = lines[next_position[0]][next_position[1]]\n",
    "\n",
    "    if next_position_value == '#':\n",
    "        direction_index += 1  # Increase direction_index to make a right turn.\n",
    "        direction_index = direction_index % 4  # If direction_index == 4, set it to 0 by using modulo 4.\n",
    "\n",
    "    elif next_position_value in ('.', '^'):\n",
    "        current_position = next_position\n",
    "        positions.add(current_position)  # \"Walk\" to the next_position and add it to the list of visited positions."
   ]
  },
  {
   "cell_type": "code",
   "execution_count": 346,
   "id": "d59d2177",
   "metadata": {},
   "outputs": [
    {
     "data": {
      "text/plain": [
       "41"
      ]
     },
     "execution_count": 346,
     "metadata": {},
     "output_type": "execute_result"
    }
   ],
   "source": [
    "len(positions)"
   ]
  },
  {
   "cell_type": "markdown",
   "id": "6b47421a",
   "metadata": {},
   "source": [
    "## Puzzle 2"
   ]
  },
  {
   "cell_type": "markdown",
   "id": "27011b81",
   "metadata": {},
   "source": [
    "This time, we will try to put obstacles along the guards path to see if he gets stuck in an infinite loop."
   ]
  },
  {
   "cell_type": "code",
   "execution_count": 347,
   "id": "e507645a",
   "metadata": {},
   "outputs": [],
   "source": [
    "possible_obstructions = list(positions - {starting_position})  # Re-use the positions of the guards path from Puzzle 1.\n",
    "directions = [(-1, 0), (0, 1), (1, 0), (0, -1)]\n",
    "optimal_obstruction_positions = []\n",
    "\n",
    "for obstruction in possible_obstructions:\n",
    "    on_map = True\n",
    "    loop_found = False\n",
    "    current_position = starting_position\n",
    "    direction_index = 0\n",
    "    positions_with_directions = {(current_position, directions[direction_index])}  # A set of all visited postition and direction pairs.\n",
    "\n",
    "    while on_map and not loop_found:\n",
    "        next_position = (current_position[0] + directions[direction_index][0], current_position[1] + directions[direction_index][1])\n",
    "\n",
    "        if not (0 <= next_position[0] < m) or not (0 <= next_position[1] < n):\n",
    "            on_map = False\n",
    "            continue\n",
    "\n",
    "        next_position_value = lines[next_position[0]][next_position[1]]\n",
    "\n",
    "        if next_position_value == '#' or next_position == obstruction:  # Now, we also make the guard turn if he runs into the new obstacle.\n",
    "            direction_index += 1\n",
    "            direction_index = direction_index % 4\n",
    "        \n",
    "        elif next_position_value in ('.', '^'):\n",
    "            current_position = next_position\n",
    "\n",
    "            if (current_position, directions[direction_index]) in positions_with_directions:  # If the guard is visiting the same position as before, facing the same direction as before, we know he is stuck in a loop.\n",
    "                loop_found = True\n",
    "                optimal_obstruction_positions.append(obstruction)\n",
    "\n",
    "            positions_with_directions.add((current_position, directions[direction_index]))\n"
   ]
  },
  {
   "cell_type": "code",
   "execution_count": 348,
   "id": "4e5187ab",
   "metadata": {},
   "outputs": [
    {
     "data": {
      "text/plain": [
       "6"
      ]
     },
     "execution_count": 348,
     "metadata": {},
     "output_type": "execute_result"
    }
   ],
   "source": [
    "len(optimal_obstruction_positions)"
   ]
  }
 ],
 "metadata": {
  "kernelspec": {
   "display_name": "Python 3",
   "language": "python",
   "name": "python3"
  },
  "language_info": {
   "codemirror_mode": {
    "name": "ipython",
    "version": 3
   },
   "file_extension": ".py",
   "mimetype": "text/x-python",
   "name": "python",
   "nbconvert_exporter": "python",
   "pygments_lexer": "ipython3",
   "version": "3.12.4"
  }
 },
 "nbformat": 4,
 "nbformat_minor": 5
}
