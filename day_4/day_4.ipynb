{
 "cells": [
  {
   "cell_type": "markdown",
   "id": "f7ae14a6",
   "metadata": {},
   "source": [
    "# Day 4\n",
    "## Puzzle 1"
   ]
  },
  {
   "cell_type": "code",
   "execution_count": 364,
   "id": "b731455b",
   "metadata": {},
   "outputs": [],
   "source": [
    "import numpy as np\n",
    "import re"
   ]
  },
  {
   "cell_type": "code",
   "execution_count": 365,
   "id": "0252957e",
   "metadata": {},
   "outputs": [],
   "source": [
    "input_file = 'input_1.txt'\n",
    "# input_file = 'test_input_1.txt'\n",
    "# input_file = 'test_input_2.txt'"
   ]
  },
  {
   "cell_type": "markdown",
   "id": "33fdadd5",
   "metadata": {},
   "source": [
    "Read input text."
   ]
  },
  {
   "cell_type": "code",
   "execution_count": 366,
   "id": "43d05f9f",
   "metadata": {},
   "outputs": [],
   "source": [
    "with open(file=input_file, mode='r') as file:\n",
    "    text = file.read()"
   ]
  },
  {
   "cell_type": "markdown",
   "id": "b8e6ff52",
   "metadata": {},
   "source": [
    "Extract and view horizontal lines."
   ]
  },
  {
   "cell_type": "code",
   "execution_count": 367,
   "id": "9dfae36f",
   "metadata": {},
   "outputs": [],
   "source": [
    "horizontal_lines = text.split('\\n')"
   ]
  },
  {
   "cell_type": "code",
   "execution_count": 368,
   "id": "5df39a01",
   "metadata": {},
   "outputs": [
    {
     "data": {
      "text/plain": [
       "['MSSMSAMXSAMASMSMSAMMMMMMMXSXSMMSAMXSSSMXMSMMSMXMXSXMMSAMXMSSSSSSMSASMSSMSAMXMSMXSXSMMMXSSMAMXXMXSXMAMSAMXXMXAXXSASAMXMMAMMSSXSXMMXSMMXSXXMXX',\n",
       " 'AAMAMXAMMAMSAAAAMAMAAAAMMAMMSAAXAAMAAAMAXAMAAAAAASAMXSXMASMAXMAAMMASMAAAMAMAMAAMSAXAAXMXAXMASXSAMASAMXSSMMSSSMASAAAXMASMMAAMMMAMSMSASMSXAMAM',\n",
       " 'MMSSXSSSSSMAMSMSMMMXXSSSMXSAMMMMAXMMAMSXSSSXMSMMXSAMXMAMXXMMMMSMMXAXMXMSMASASMSMXASMMXMSAMMAMXMASAMXSMXMXAAAAXMXASMMMMSAMMXXAMAMAASAMAXSAMXA',\n",
       " 'XXAXAXAAAMXMXXAXAMSSMMXAMAMASASAMXMXAXAAAAAMXAMSASXMASMMMMAMAXAXMMMSSXMXMXSXSAMXXAMMAXMAMMSSSXSAMMXXAMXAASMXMMXMMMMASXSAMXSSSSSSMXMAMSMSMAMX',\n",
       " 'XXMMMMMMMMMXMMMMSMAAAASAMXSXMAXMAXMSSSMMMMMMSASMMXAXASAAXXSSSXSASXMAXAMMSMMAMAMASXMXSXXAXAXAAXMASXSSSSMSMXSSXAAXAASAMXSXMMAAAAMAXSXXXAAXAAXA',\n",
       " 'SMXSXXXAAAAAXSMAMMSXMMSAMXAMMMMXAAMAMAXMXMAMSXMAMSSMASXMSMXAXAMSMAMASXMAXAXMMAMXMXASAMSSMMMMMMXXMAAAAMAXXAMXXSMSSMMXSXMAXAMMMMMMMMAXSSXMSASM',\n",
       " 'SASMMAASXSSMAAMXMAXSXMSAMAXMASXMSSMASXMAMSMXSASXMAMMAXAXSXMAMSMASXMXMMMMSXMMSSSSSSMMAXAXAASMASXSMMMMMMMMMSSMMAXAXXSMAAXAMSMMXMXXAMXMAMMMAAAX',\n",
       " 'XXAAMXMMAMMMSXMXMASAMXSASMMSASXMAXMAMMASAMMASAMXMAXMMSMXMASXMASMMXMMMMAAXMMXAXMAAAMMXMAXMMAXAMXMAXXASAMXAMAMSAMXSXAXSSMXMXASXMMSMMXMASAMMMMX',\n",
       " 'MSSXMSXMASXMMASXMMXASASXMAXMXMAMXSMXMSAMASXXMMMXMSXSMXXASAMSSXMMSAMAAMMSMMXMASMMXMMMAMXMSAMMMSMMASMMSAXAXSAMMASAMMMMXXAMSMMMAAAAAMXMASASXXXX',\n",
       " 'XAAXSXXSAMAXXAMXASXMMAXXMSMMMSMMAXMAMMAMAMXAAMMSAXAMMMSMXMSMXAMASMSSSSSXMMAMSMXMSXMSAMXAMMXMXAMXAAAASMMMMSAMXAMMSAXSAMXMAAASMMMSSMAMASMMMXMM']"
      ]
     },
     "execution_count": 368,
     "metadata": {},
     "output_type": "execute_result"
    }
   ],
   "source": [
    "horizontal_lines[:10]"
   ]
  },
  {
   "cell_type": "markdown",
   "id": "502b350f",
   "metadata": {},
   "source": [
    "Extract horizontal, main diagonal and minor diagonal lines."
   ]
  },
  {
   "cell_type": "code",
   "execution_count": 369,
   "id": "bb4902a8",
   "metadata": {},
   "outputs": [],
   "source": [
    "horizontal_lines_backwards = []\n",
    "vertical_lines = []\n",
    "main_diagonal_lines = []\n",
    "minor_diagonal_lines = []\n",
    "\n",
    "m = len(horizontal_lines)\n",
    "n = len(horizontal_lines[0])\n",
    "\n",
    "for line in horizontal_lines:\n",
    "    horizontal_lines_backwards.append(line[::-1])\n",
    "\n",
    "for i in range(m):\n",
    "    vertical_word = ''\n",
    "    main_diagonal_word_upper = ''\n",
    "    main_diagonal_word_lower = ''\n",
    "    minor_diagonal_word_upper = ''\n",
    "    minor_diagonal_word_lower = ''\n",
    "\n",
    "    for j in range(n):\n",
    "        vertical_word += horizontal_lines[j][i]\n",
    "        if 0 <= i + j < n:\n",
    "            main_diagonal_word_upper += horizontal_lines[j][i + j]\n",
    "            minor_diagonal_word_upper += horizontal_lines_backwards[j][i + j]\n",
    "        if 0 <= i + j - n: \n",
    "            main_diagonal_word_lower += horizontal_lines[j][i + j - n]\n",
    "            minor_diagonal_word_lower += horizontal_lines_backwards[j][i + j - n]\n",
    "\n",
    "    vertical_lines.append(vertical_word)\n",
    "    main_diagonal_lines.append(main_diagonal_word_upper)\n",
    "    main_diagonal_lines.append(main_diagonal_word_lower)\n",
    "    minor_diagonal_lines.append(minor_diagonal_word_upper)\n",
    "    minor_diagonal_lines.append(minor_diagonal_word_lower)\n"
   ]
  },
  {
   "cell_type": "markdown",
   "id": "9f8fdffb",
   "metadata": {},
   "source": [
    "Loop through all lines and count the occurrances of \"XMAS\", spelt both backwards and forwards."
   ]
  },
  {
   "cell_type": "code",
   "execution_count": 370,
   "id": "2e323599",
   "metadata": {},
   "outputs": [],
   "source": [
    "all_lines = horizontal_lines + vertical_lines + main_diagonal_lines + minor_diagonal_lines\n",
    "xmas_count = 0\n",
    "\n",
    "for line in all_lines:\n",
    "    xmas_matches_1 = re.findall(r'XMAS', line)\n",
    "    xmas_matches_2 = re.findall(r'SAMX', line)\n",
    "    xmas_count += len(xmas_matches_1) + len(xmas_matches_2)"
   ]
  },
  {
   "cell_type": "code",
   "execution_count": 371,
   "id": "8045bb31",
   "metadata": {},
   "outputs": [
    {
     "data": {
      "text/plain": [
       "2406"
      ]
     },
     "execution_count": 371,
     "metadata": {},
     "output_type": "execute_result"
    }
   ],
   "source": [
    "xmas_count"
   ]
  },
  {
   "cell_type": "markdown",
   "id": "ec4f4e9a",
   "metadata": {},
   "source": [
    "## Puzzle 2"
   ]
  },
  {
   "cell_type": "markdown",
   "id": "a3a64c4a",
   "metadata": {},
   "source": [
    "Loop through all characters. For all occurrances of the letter \"A\", check if the four \"diagonal conditions\":"
   ]
  },
  {
   "cell_type": "code",
   "execution_count": 372,
   "id": "9d52ebee",
   "metadata": {},
   "outputs": [],
   "source": [
    "m = len(horizontal_lines)\n",
    "n = len(horizontal_lines[0])\n",
    "\n",
    "special_xmas_count = 0\n",
    "\n",
    "for i in range(m):\n",
    "    for j in range(n):\n",
    "        if horizontal_lines[i][j] == 'A' and (0 <= i - 1 < m) and (0 <= j - 1 < m) and (0 <= i + 1 < n) and (0 <= j + 1 < n):\n",
    "            condition_1 = False\n",
    "            condition_2 = False\n",
    "            condition_3 = False\n",
    "            condition_4 = False\n",
    "\n",
    "            if horizontal_lines[i - 1][j - 1] == 'M' and horizontal_lines[i + 1][j + 1] == 'S':\n",
    "                condition_1 = True\n",
    "\n",
    "            elif horizontal_lines[i - 1][j - 1] == 'S' and horizontal_lines[i + 1][j + 1] == 'M':\n",
    "                condition_2 = True\n",
    "\n",
    "            if horizontal_lines[i + 1][j - 1] == 'M' and horizontal_lines[i - 1][j + 1] == 'S':\n",
    "                condition_3 = True\n",
    "\n",
    "            elif horizontal_lines[i + 1][j - 1] == 'S' and horizontal_lines[i - 1][j + 1] == 'M':\n",
    "                condition_4 = True\n",
    "\n",
    "            if (condition_1 or condition_2) and (condition_3 or condition_4):\n",
    "                special_xmas_count += 1"
   ]
  },
  {
   "cell_type": "code",
   "execution_count": 373,
   "id": "fbe92de9",
   "metadata": {},
   "outputs": [
    {
     "data": {
      "text/plain": [
       "1807"
      ]
     },
     "execution_count": 373,
     "metadata": {},
     "output_type": "execute_result"
    }
   ],
   "source": [
    "special_xmas_count"
   ]
  }
 ],
 "metadata": {
  "kernelspec": {
   "display_name": "Python 3",
   "language": "python",
   "name": "python3"
  },
  "language_info": {
   "codemirror_mode": {
    "name": "ipython",
    "version": 3
   },
   "file_extension": ".py",
   "mimetype": "text/x-python",
   "name": "python",
   "nbconvert_exporter": "python",
   "pygments_lexer": "ipython3",
   "version": "3.12.4"
  }
 },
 "nbformat": 4,
 "nbformat_minor": 5
}
