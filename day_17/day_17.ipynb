{
 "cells": [
  {
   "cell_type": "markdown",
   "id": "22fee353",
   "metadata": {},
   "source": [
    "# Day 17\n",
    "## Puzzle 1"
   ]
  },
  {
   "cell_type": "code",
   "execution_count": 268,
   "id": "a3a658ff",
   "metadata": {},
   "outputs": [],
   "source": [
    "import numpy as np\n",
    "import re"
   ]
  },
  {
   "cell_type": "code",
   "execution_count": 269,
   "id": "e0fde143",
   "metadata": {},
   "outputs": [],
   "source": [
    "input_file = 'input_1.txt'\n",
    "# input_file = 'test_input_1.txt'\n",
    "# input_file = 'test_input_2.txt'"
   ]
  },
  {
   "cell_type": "code",
   "execution_count": 270,
   "id": "de9f9725",
   "metadata": {},
   "outputs": [],
   "source": [
    "with open(file=input_file, mode=\"r\") as file:\n",
    "    register_vals = []\n",
    "    text_parts = file.read().split('\\n\\n')\n",
    "\n",
    "    for register_line in text_parts[0].split('\\n'):\n",
    "        value = re.findall(r'[-+]?(?:\\d+)', register_line)\n",
    "        register_vals.append(int(value[0]))\n",
    "\n",
    "    registers = {'A': register_vals[0], 'B': register_vals[1], 'C': register_vals[2]}\n",
    "    program = [int(val) for val in re.findall(r'[-+]?(?:\\d+)', text_parts[1])]"
   ]
  },
  {
   "cell_type": "code",
   "execution_count": 271,
   "id": "7e964e52",
   "metadata": {},
   "outputs": [
    {
     "data": {
      "text/plain": [
       "{'A': 46323429, 'B': 0, 'C': 0}"
      ]
     },
     "execution_count": 271,
     "metadata": {},
     "output_type": "execute_result"
    }
   ],
   "source": [
    "registers"
   ]
  },
  {
   "cell_type": "code",
   "execution_count": 272,
   "id": "0f767df0",
   "metadata": {},
   "outputs": [
    {
     "data": {
      "text/plain": [
       "[2, 4, 1, 1, 7, 5, 1, 5, 4, 3, 0, 3, 5, 5, 3, 0]"
      ]
     },
     "execution_count": 272,
     "metadata": {},
     "output_type": "execute_result"
    }
   ],
   "source": [
    "program"
   ]
  },
  {
   "cell_type": "code",
   "execution_count": 273,
   "id": "447fe5d6",
   "metadata": {},
   "outputs": [],
   "source": [
    "# Opcode 0\n",
    "def adv(registers: dict[str, int], combo_operand: int) -> int:\n",
    "    registers['A'] = registers['A']//(2**combo_operand)\n",
    "    jump = 2\n",
    "    return jump\n",
    "\n",
    "# Opcode 1\n",
    "def bxl(registers: dict[str, int], literal_operand: int) -> int:\n",
    "    registers['B'] = registers['B']^literal_operand\n",
    "    jump = 2\n",
    "    return jump\n",
    "\n",
    "# Opcode 2\n",
    "def bst(registers: dict[str, int], combo_operand: int) -> int:\n",
    "    registers['B'] = combo_operand % 8\n",
    "    jump = 2\n",
    "    return jump\n",
    "\n",
    "# Opcode 3\n",
    "def jnz(registers: dict[str, int], literal_operand: int) -> tuple[int|None, int|None]:\n",
    "    jump = None\n",
    "    jump_to = None\n",
    "\n",
    "    if registers['A'] == 0:\n",
    "        jump = 2\n",
    "    \n",
    "    else:\n",
    "        jump_to = literal_operand\n",
    "    \n",
    "    return jump, jump_to\n",
    "\n",
    "# Opcode 4\n",
    "def bxc(registers: dict[str, int]) -> int:\n",
    "    registers['B'] = registers['B']^registers['C']\n",
    "    jump = 2\n",
    "    return jump\n",
    "\n",
    "# Opcode 5\n",
    "def out(output: list[int], combo_operand: int) -> int:\n",
    "    output.append(combo_operand % 8)\n",
    "    jump = 2\n",
    "    return jump\n",
    "\n",
    "# Opcode 6\n",
    "def bdv(registers: dict[str, int], combo_operand: int) -> int:\n",
    "    registers['B'] = registers['A']//(2**combo_operand)\n",
    "    jump = 2\n",
    "    return jump\n",
    "\n",
    "# Opcode 7\n",
    "def cdv(registers: dict[str, int], combo_operand: int) -> int:\n",
    "    registers['C'] = registers['A']//(2**combo_operand)\n",
    "    jump = 2\n",
    "    return jump"
   ]
  },
  {
   "cell_type": "code",
   "execution_count": 274,
   "id": "db26074c",
   "metadata": {},
   "outputs": [],
   "source": [
    "output = []\n",
    "program_length = len(program)\n",
    "program_running = True\n",
    "instruction_index = 0\n",
    "\n",
    "while program_running:\n",
    "    current_instruction = program[instruction_index]\n",
    "    current_operand = program[instruction_index + 1]\n",
    "    combo_operands = {\n",
    "        0: 0,\n",
    "        1: 1,\n",
    "        2: 2,\n",
    "        3: 3,\n",
    "        4: registers['A'],\n",
    "        5: registers['B'],\n",
    "        6: registers['C']\n",
    "    }\n",
    "\n",
    "    match current_instruction:\n",
    "        case 0:\n",
    "            instruction_index += adv(registers, combo_operand=combo_operands[current_operand])\n",
    "\n",
    "        case 1:\n",
    "            instruction_index += bxl(registers, literal_operand=current_operand)\n",
    "\n",
    "        case 2:\n",
    "            instruction_index += bst(registers, combo_operand=combo_operands[current_operand])\n",
    "\n",
    "        case 3:\n",
    "            jump, jump_to = jnz(registers, literal_operand=current_operand)\n",
    "\n",
    "            if jump is None:\n",
    "                instruction_index = jump_to\n",
    "\n",
    "            else:\n",
    "                instruction_index += jump\n",
    "\n",
    "        case 4:\n",
    "            instruction_index += bxc(registers)\n",
    "\n",
    "        case 5:\n",
    "            instruction_index += out(output, combo_operand=combo_operands[current_operand])\n",
    "\n",
    "        case 6:\n",
    "            instruction_index += bdv(registers, combo_operand=combo_operands[current_operand])\n",
    "\n",
    "        case 7:\n",
    "            instruction_index += cdv(registers, combo_operand=combo_operands[current_operand])\n",
    "\n",
    "    if instruction_index >= program_length:\n",
    "        program_running = False"
   ]
  },
  {
   "cell_type": "code",
   "execution_count": 275,
   "id": "c06ed2e6",
   "metadata": {},
   "outputs": [
    {
     "data": {
      "text/plain": [
       "'7,6,1,5,3,1,4,2,6'"
      ]
     },
     "execution_count": 275,
     "metadata": {},
     "output_type": "execute_result"
    }
   ],
   "source": [
    "','.join(str(val) for val in output)"
   ]
  },
  {
   "cell_type": "markdown",
   "id": "4d067c9e",
   "metadata": {},
   "source": [
    "## Puzzle 2"
   ]
  },
  {
   "cell_type": "markdown",
   "id": "803f60a2",
   "metadata": {},
   "source": [
    "NOT DONE!"
   ]
  },
  {
   "cell_type": "code",
   "execution_count": 276,
   "id": "97259240",
   "metadata": {},
   "outputs": [
    {
     "data": {
      "text/plain": [
       "\"\\ndef adv_inv(registers: dict[str, int], combo_operand: int) -> int:\\n    registers['A'] = registers['A']*(2**combo_operand)\\n    jump = 2\\n    return jump\\n\\ndef bxl_inv(registers: dict[str, int], literal_operand: int) -> int:\\n    registers['B'] = registers['B']^literal_operand\\n    jump = 2\\n    return jump\\n\\ndef bst_inv(registers: dict[str, int], combo_operand: int) -> int:\\n    registers['B'] = combo_operand % 8\\n    jump = 2\\n    return jump\\n\\ndef jnz_inv(registers: dict[str, int], literal_operand: int) -> tuple[int|None, int|None]:\\n    jump = None\\n    jump_to = None\\n\\n    if registers['A'] == 0:\\n        jump = 2\\n    \\n    else:\\n        jump_to = literal_operand\\n    \\n    return jump, jump_to\\n\\ndef bxc_inv(registers: dict[str, int]) -> int:\\n    registers['B'] = registers['B']^registers['C']\\n    jump = 2\\n    return jump\\n\\ndef out_inv(output: list[int], combo_operand: int) -> int:\\n    output.insert(0, combo_operand)\\n    jump = 2\\n    return jump\\n\\ndef bdv_inv(registers: dict[str, int], combo_operand: int) -> int:\\n    registers['B'] = registers['A']*(2**combo_operand)\\n    jump = 2\\n    return jump\\n\\ndef cdv_inv(registers: dict[str, int], combo_operand: int) -> int:\\n    registers['C'] = registers['A']*(2**combo_operand)\\n    jump = 2\\n    return jump\\n\""
      ]
     },
     "execution_count": 276,
     "metadata": {},
     "output_type": "execute_result"
    }
   ],
   "source": [
    "'''\n",
    "def adv_inv(registers: dict[str, int], combo_operand: int) -> int:\n",
    "    registers['A'] = registers['A']*(2**combo_operand)\n",
    "    jump = 2\n",
    "    return jump\n",
    "\n",
    "def bxl_inv(registers: dict[str, int], literal_operand: int) -> int:\n",
    "    registers['B'] = registers['B']^literal_operand\n",
    "    jump = 2\n",
    "    return jump\n",
    "\n",
    "def bst_inv(registers: dict[str, int], combo_operand: int) -> int:\n",
    "    registers['B'] = combo_operand % 8\n",
    "    jump = 2\n",
    "    return jump\n",
    "\n",
    "def jnz_inv(registers: dict[str, int], literal_operand: int) -> tuple[int|None, int|None]:\n",
    "    jump = None\n",
    "    jump_to = None\n",
    "\n",
    "    if registers['A'] == 0:\n",
    "        jump = 2\n",
    "    \n",
    "    else:\n",
    "        jump_to = literal_operand\n",
    "    \n",
    "    return jump, jump_to\n",
    "\n",
    "def bxc_inv(registers: dict[str, int]) -> int:\n",
    "    registers['B'] = registers['B']^registers['C']\n",
    "    jump = 2\n",
    "    return jump\n",
    "\n",
    "def out_inv(output: list[int], combo_operand: int) -> int:\n",
    "    output.insert(0, combo_operand)\n",
    "    jump = 2\n",
    "    return jump\n",
    "\n",
    "def bdv_inv(registers: dict[str, int], combo_operand: int) -> int:\n",
    "    registers['B'] = registers['A']*(2**combo_operand)\n",
    "    jump = 2\n",
    "    return jump\n",
    "\n",
    "def cdv_inv(registers: dict[str, int], combo_operand: int) -> int:\n",
    "    registers['C'] = registers['A']*(2**combo_operand)\n",
    "    jump = 2\n",
    "    return jump\n",
    "'''"
   ]
  },
  {
   "cell_type": "code",
   "execution_count": 277,
   "id": "430a0ceb",
   "metadata": {},
   "outputs": [
    {
     "data": {
      "text/plain": [
       "\"\\noutput = []\\nprogram_length = len(program)\\nprogram_running = True\\ninstruction_index = 0\\nregisters_puzzle_2 = {'A': 0, 'B': 0, 'C': 0}\\n\\nwhile program_running:\\n    current_instruction = program[::-1][instruction_index + 1]\\n    current_operand = program[::-1][instruction_index]\\n    combo_operands = {\\n        0: 0,\\n        1: 1,\\n        2: 2,\\n        3: 3,\\n        4: registers_puzzle_2['A'],\\n        5: registers_puzzle_2['B'],\\n        6: registers_puzzle_2['C']\\n    }\\n\\n    print(program[::-1])\\n    print(current_instruction)\\n    print(current_operand)\\n\\n    match current_instruction:\\n        case 0:\\n            instruction_index += adv_inv(registers=registers_puzzle_2, combo_operand=combo_operands[current_operand])\\n\\n        case 1:\\n            instruction_index += bxl_inv(registers=registers_puzzle_2, literal_operand=current_operand)\\n\\n        case 2:\\n            instruction_index += bst_inv(registers=registers_puzzle_2, combo_operand=combo_operands[current_operand])\\n\\n        case 3:\\n            jump, jump_to = jnz_inv(registers=registers_puzzle_2, literal_operand=current_operand)\\n\\n            if jump is None:\\n                instruction_index = jump_to\\n\\n            else:\\n                instruction_index += jump\\n\\n        case 4:\\n            instruction_index += bxc_inv(registers=registers_puzzle_2)\\n\\n        case 5:\\n            instruction_index += out_inv(output, combo_operand=combo_operands[current_operand])\\n\\n        case 6:\\n            instruction_index += bdv_inv(registers=registers_puzzle_2, combo_operand=combo_operands[current_operand])\\n\\n        case 7:\\n            instruction_index += cdv_inv(registers=registers_puzzle_2, combo_operand=combo_operands[current_operand])\\n\\n    if instruction_index >= program_length:\\n        program_running = False\\n\""
      ]
     },
     "execution_count": 277,
     "metadata": {},
     "output_type": "execute_result"
    }
   ],
   "source": [
    "'''\n",
    "output = []\n",
    "program_length = len(program)\n",
    "program_running = True\n",
    "instruction_index = 0\n",
    "registers_puzzle_2 = {'A': 0, 'B': 0, 'C': 0}\n",
    "\n",
    "while program_running:\n",
    "    current_instruction = program[::-1][instruction_index + 1]\n",
    "    current_operand = program[::-1][instruction_index]\n",
    "    combo_operands = {\n",
    "        0: 0,\n",
    "        1: 1,\n",
    "        2: 2,\n",
    "        3: 3,\n",
    "        4: registers_puzzle_2['A'],\n",
    "        5: registers_puzzle_2['B'],\n",
    "        6: registers_puzzle_2['C']\n",
    "    }\n",
    "\n",
    "    print(program[::-1])\n",
    "    print(current_instruction)\n",
    "    print(current_operand)\n",
    "\n",
    "    match current_instruction:\n",
    "        case 0:\n",
    "            instruction_index += adv_inv(registers=registers_puzzle_2, combo_operand=combo_operands[current_operand])\n",
    "\n",
    "        case 1:\n",
    "            instruction_index += bxl_inv(registers=registers_puzzle_2, literal_operand=current_operand)\n",
    "\n",
    "        case 2:\n",
    "            instruction_index += bst_inv(registers=registers_puzzle_2, combo_operand=combo_operands[current_operand])\n",
    "\n",
    "        case 3:\n",
    "            jump, jump_to = jnz_inv(registers=registers_puzzle_2, literal_operand=current_operand)\n",
    "\n",
    "            if jump is None:\n",
    "                instruction_index = jump_to\n",
    "\n",
    "            else:\n",
    "                instruction_index += jump\n",
    "\n",
    "        case 4:\n",
    "            instruction_index += bxc_inv(registers=registers_puzzle_2)\n",
    "\n",
    "        case 5:\n",
    "            instruction_index += out_inv(output, combo_operand=combo_operands[current_operand])\n",
    "\n",
    "        case 6:\n",
    "            instruction_index += bdv_inv(registers=registers_puzzle_2, combo_operand=combo_operands[current_operand])\n",
    "\n",
    "        case 7:\n",
    "            instruction_index += cdv_inv(registers=registers_puzzle_2, combo_operand=combo_operands[current_operand])\n",
    "\n",
    "    if instruction_index >= program_length:\n",
    "        program_running = False\n",
    "'''"
   ]
  },
  {
   "cell_type": "code",
   "execution_count": 278,
   "id": "e22c2327",
   "metadata": {},
   "outputs": [
    {
     "data": {
      "text/plain": [
       "\"\\ndef run_program(program: list[int], A: int) -> list[int]:\\n    registers = {'A': A, 'B': 0, 'C': 0 }\\n    output = []\\n    program_length = len(program)\\n    program_running = True\\n    instruction_index = 0\\n\\n    while program_running:\\n        current_instruction = program[instruction_index]\\n        current_operand = program[instruction_index + 1]\\n        combo_operands = {\\n            0: 0,\\n            1: 1,\\n            2: 2,\\n            3: 3,\\n            4: registers['A'],\\n            5: registers['B'],\\n            6: registers['C']\\n        }\\n\\n        match current_instruction:\\n            case 0:\\n                instruction_index += adv(registers, combo_operand=combo_operands[current_operand])\\n\\n            case 1:\\n                instruction_index += bxl(registers, literal_operand=current_operand)\\n\\n            case 2:\\n                instruction_index += bst(registers, combo_operand=combo_operands[current_operand])\\n\\n            case 3:\\n                jump, jump_to = jnz(registers, literal_operand=current_operand)\\n\\n                if jump is None:\\n                    instruction_index = jump_to\\n\\n                else:\\n                    instruction_index += jump\\n\\n            case 4:\\n                instruction_index += bxc(registers)\\n\\n            case 5:\\n                instruction_index += out(output, combo_operand=combo_operands[current_operand])\\n\\n            case 6:\\n                instruction_index += bdv(registers, combo_operand=combo_operands[current_operand])\\n\\n            case 7:\\n                instruction_index += cdv(registers, combo_operand=combo_operands[current_operand])\\n\\n        if instruction_index >= program_length:\\n            program_running = False\\n\\n    return output\\n\""
      ]
     },
     "execution_count": 278,
     "metadata": {},
     "output_type": "execute_result"
    }
   ],
   "source": [
    "'''\n",
    "def run_program(program: list[int], A: int) -> list[int]:\n",
    "    registers = {'A': A, 'B': 0, 'C': 0 }\n",
    "    output = []\n",
    "    program_length = len(program)\n",
    "    program_running = True\n",
    "    instruction_index = 0\n",
    "\n",
    "    while program_running:\n",
    "        current_instruction = program[instruction_index]\n",
    "        current_operand = program[instruction_index + 1]\n",
    "        combo_operands = {\n",
    "            0: 0,\n",
    "            1: 1,\n",
    "            2: 2,\n",
    "            3: 3,\n",
    "            4: registers['A'],\n",
    "            5: registers['B'],\n",
    "            6: registers['C']\n",
    "        }\n",
    "\n",
    "        match current_instruction:\n",
    "            case 0:\n",
    "                instruction_index += adv(registers, combo_operand=combo_operands[current_operand])\n",
    "\n",
    "            case 1:\n",
    "                instruction_index += bxl(registers, literal_operand=current_operand)\n",
    "\n",
    "            case 2:\n",
    "                instruction_index += bst(registers, combo_operand=combo_operands[current_operand])\n",
    "\n",
    "            case 3:\n",
    "                jump, jump_to = jnz(registers, literal_operand=current_operand)\n",
    "\n",
    "                if jump is None:\n",
    "                    instruction_index = jump_to\n",
    "\n",
    "                else:\n",
    "                    instruction_index += jump\n",
    "\n",
    "            case 4:\n",
    "                instruction_index += bxc(registers)\n",
    "\n",
    "            case 5:\n",
    "                instruction_index += out(output, combo_operand=combo_operands[current_operand])\n",
    "\n",
    "            case 6:\n",
    "                instruction_index += bdv(registers, combo_operand=combo_operands[current_operand])\n",
    "\n",
    "            case 7:\n",
    "                instruction_index += cdv(registers, combo_operand=combo_operands[current_operand])\n",
    "\n",
    "        if instruction_index >= program_length:\n",
    "            program_running = False\n",
    "\n",
    "    return output\n",
    "'''"
   ]
  },
  {
   "cell_type": "code",
   "execution_count": 279,
   "id": "fd2f50be",
   "metadata": {},
   "outputs": [
    {
     "name": "stdout",
     "output_type": "stream",
     "text": [
      "6\n",
      "14\n",
      "332\n",
      "23948989\n",
      "23949245\n"
     ]
    },
    {
     "ename": "KeyboardInterrupt",
     "evalue": "",
     "output_type": "error",
     "traceback": [
      "\u001b[1;31m---------------------------------------------------------------------------\u001b[0m",
      "\u001b[1;31mKeyboardInterrupt\u001b[0m                         Traceback (most recent call last)",
      "Cell \u001b[1;32mIn[279], line 10\u001b[0m\n\u001b[0;32m      7\u001b[0m program_running \u001b[38;5;241m=\u001b[39m \u001b[38;5;28;01mTrue\u001b[39;00m\n\u001b[0;32m      8\u001b[0m instruction_index \u001b[38;5;241m=\u001b[39m \u001b[38;5;241m0\u001b[39m\n\u001b[1;32m---> 10\u001b[0m \u001b[38;5;28;01mwhile\u001b[39;00m program_running:\n\u001b[0;32m     11\u001b[0m     \u001b[38;5;66;03m# print(reg_A_start_val) if reg_A_start_val % 100000 == 0 else None\u001b[39;00m\n\u001b[0;32m     12\u001b[0m     current_instruction \u001b[38;5;241m=\u001b[39m program[instruction_index]\n\u001b[0;32m     13\u001b[0m     current_operand \u001b[38;5;241m=\u001b[39m program[instruction_index \u001b[38;5;241m+\u001b[39m \u001b[38;5;241m1\u001b[39m]\n",
      "\u001b[1;31mKeyboardInterrupt\u001b[0m: "
     ]
    }
   ],
   "source": [
    "reg_A_start_val = 0\n",
    "reg_A_start_val_last_restart = 0\n",
    "registers = {'A': reg_A_start_val, 'B': 0, 'C': 0}\n",
    "\n",
    "output = []\n",
    "program_length = len(program)\n",
    "program_running = True\n",
    "instruction_index = 0\n",
    "\n",
    "while program_running:\n",
    "    # print(reg_A_start_val) if reg_A_start_val % 100000 == 0 else None\n",
    "    current_instruction = program[instruction_index]\n",
    "    current_operand = program[instruction_index + 1]\n",
    "    combo_operands = {\n",
    "        0: 0,\n",
    "        1: 1,\n",
    "        2: 2,\n",
    "        3: 3,\n",
    "        4: registers['A'],\n",
    "        5: registers['B'],\n",
    "        6: registers['C']\n",
    "    }\n",
    "\n",
    "    match current_instruction:\n",
    "        case 0:\n",
    "            instruction_index += adv(registers, combo_operand=combo_operands[current_operand])\n",
    "\n",
    "        case 1:\n",
    "            instruction_index += bxl(registers, literal_operand=current_operand)\n",
    "\n",
    "        case 2:\n",
    "            instruction_index += bst(registers, combo_operand=combo_operands[current_operand])\n",
    "\n",
    "        case 3:\n",
    "            jump, jump_to = jnz(registers, literal_operand=current_operand)\n",
    "\n",
    "            if jump is None:\n",
    "                instruction_index = jump_to\n",
    "\n",
    "            else:\n",
    "                instruction_index += jump\n",
    "\n",
    "        case 4:\n",
    "            instruction_index += bxc(registers)\n",
    "\n",
    "        case 5:\n",
    "            instruction_index += out(output, combo_operand=combo_operands[current_operand])\n",
    "\n",
    "            if output[-1] != program[len(output) - 1]:\n",
    "                output.clear()\n",
    "                reg_A_start_val += 1\n",
    "                reg_A_start_val_last_restart = registers['A']\n",
    "                registers['A'] = reg_A_start_val\n",
    "                instruction_index = 0\n",
    "\n",
    "        case 6:\n",
    "            instruction_index += bdv(registers, combo_operand=combo_operands[current_operand])\n",
    "\n",
    "        case 7:\n",
    "            instruction_index += cdv(registers, combo_operand=combo_operands[current_operand])\n",
    "\n",
    "    if instruction_index >= program_length:\n",
    "        if len(output) == program_length:\n",
    "            program_running = False\n",
    "\n",
    "        else:\n",
    "            print(reg_A_start_val)\n",
    "            output.clear()\n",
    "            reg_A_start_val += 1\n",
    "            registers['A'] = reg_A_start_val\n",
    "            instruction_index = 0"
   ]
  },
  {
   "cell_type": "code",
   "execution_count": 255,
   "id": "efb9b77d",
   "metadata": {},
   "outputs": [
    {
     "data": {
      "text/plain": [
       "117440"
      ]
     },
     "execution_count": 255,
     "metadata": {},
     "output_type": "execute_result"
    }
   ],
   "source": [
    "reg_A_start_val"
   ]
  },
  {
   "cell_type": "code",
   "execution_count": null,
   "id": "73b023a1",
   "metadata": {},
   "outputs": [],
   "source": []
  }
 ],
 "metadata": {
  "kernelspec": {
   "display_name": "Python 3",
   "language": "python",
   "name": "python3"
  },
  "language_info": {
   "codemirror_mode": {
    "name": "ipython",
    "version": 3
   },
   "file_extension": ".py",
   "mimetype": "text/x-python",
   "name": "python",
   "nbconvert_exporter": "python",
   "pygments_lexer": "ipython3",
   "version": "3.12.4"
  }
 },
 "nbformat": 4,
 "nbformat_minor": 5
}
