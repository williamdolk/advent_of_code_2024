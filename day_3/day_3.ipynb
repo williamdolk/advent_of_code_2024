{
 "cells": [
  {
   "cell_type": "markdown",
   "id": "3a72ec68",
   "metadata": {},
   "source": [
    "# Day 3\n",
    "## Puzzle 1"
   ]
  },
  {
   "cell_type": "code",
   "execution_count": 163,
   "id": "0abfd83e",
   "metadata": {},
   "outputs": [],
   "source": [
    "import numpy as np\n",
    "import re"
   ]
  },
  {
   "cell_type": "code",
   "execution_count": 164,
   "id": "6f9268be",
   "metadata": {},
   "outputs": [],
   "source": [
    "input_file = 'input_1.txt'\n",
    "# input_file = 'test_input_1.txt'\n",
    "# input_file = 'test_input_2.txt'"
   ]
  },
  {
   "cell_type": "markdown",
   "id": "93293cd5",
   "metadata": {},
   "source": [
    "Read input text."
   ]
  },
  {
   "cell_type": "code",
   "execution_count": 165,
   "id": "ac767085",
   "metadata": {},
   "outputs": [],
   "source": [
    "with open(file=input_file, mode='r') as file:\n",
    "    text = file.read()"
   ]
  },
  {
   "cell_type": "markdown",
   "id": "1d96e9a5",
   "metadata": {},
   "source": [
    "Have a look at the first 200 characters of the text."
   ]
  },
  {
   "cell_type": "code",
   "execution_count": 166,
   "id": "3fa54bdc",
   "metadata": {},
   "outputs": [
    {
     "data": {
      "text/plain": [
       "\"@][mul(345,766);'(^mul(343,555)mul(532,723)'>mul(810,622)mul(163,901)select()@?who()select(643,43)'mul(598,56)#;do()from()~where()mul(905,791)select()/why()-when()~;mul(767,89)[#?&mul(874,668)!what(33\""
      ]
     },
     "execution_count": 166,
     "metadata": {},
     "output_type": "execute_result"
    }
   ],
   "source": [
    "text[:200]"
   ]
  },
  {
   "cell_type": "markdown",
   "id": "ab0ccc81",
   "metadata": {},
   "source": [
    "Extract correctly formatted multiplications."
   ]
  },
  {
   "cell_type": "code",
   "execution_count": 167,
   "id": "ee4a2170",
   "metadata": {},
   "outputs": [],
   "source": [
    "found_muls = re.findall(r'mul\\(\\s*\\d+\\s*,\\s*\\d+\\s*\\)', text)"
   ]
  },
  {
   "cell_type": "markdown",
   "id": "9ca4175d",
   "metadata": {},
   "source": [
    "Evaluate multiplications and add them together to get the result."
   ]
  },
  {
   "cell_type": "code",
   "execution_count": 168,
   "id": "06d3ab69",
   "metadata": {},
   "outputs": [],
   "source": [
    "result = 0\n",
    "\n",
    "for found_mul in found_muls:\n",
    "    string_vals = found_mul.replace('mul(', '').replace(')', '').replace(r'\\s*', '').split(',')  # Remove unneccesary characters.\n",
    "    int_vals = []\n",
    "\n",
    "    for string_val in string_vals:\n",
    "        int_vals.append(int(string_val))  # Turn string values into integers.\n",
    "\n",
    "    result += np.multiply(*int_vals)"
   ]
  },
  {
   "cell_type": "code",
   "execution_count": 169,
   "id": "2c864674",
   "metadata": {},
   "outputs": [
    {
     "data": {
      "text/plain": [
       "163931492"
      ]
     },
     "execution_count": 169,
     "metadata": {},
     "output_type": "execute_result"
    }
   ],
   "source": [
    "int(result)"
   ]
  },
  {
   "cell_type": "markdown",
   "id": "5d52e013",
   "metadata": {},
   "source": [
    "## Puzzle 2"
   ]
  },
  {
   "cell_type": "markdown",
   "id": "21864c10",
   "metadata": {},
   "source": [
    "Now, we also extract \"do()\" and \"don't()\" from the text."
   ]
  },
  {
   "cell_type": "code",
   "execution_count": 170,
   "id": "af831571",
   "metadata": {},
   "outputs": [],
   "source": [
    "found_muls_special = re.findall(r\"mul\\(\\s*\\d+\\s*,\\s*\\d+\\s*\\)|do\\(\\)|don't\\(\\)\", text)"
   ]
  },
  {
   "cell_type": "markdown",
   "id": "9c0d6377",
   "metadata": {},
   "source": [
    "Now, only evaluate and add multiplication to the reusult if it is preceded by a \"do()\" and not a \"don't()\". Multiplications occurring before the first \"do()\" or \"don'()\" will also be evaluated and added to the result."
   ]
  },
  {
   "cell_type": "code",
   "execution_count": 171,
   "id": "7e2b716a",
   "metadata": {},
   "outputs": [],
   "source": [
    "do = True\n",
    "result = 0\n",
    "\n",
    "for found_mul in found_muls_special:\n",
    "    if found_mul == 'do()':\n",
    "        do = True\n",
    "        continue\n",
    "\n",
    "    elif found_mul == \"don't()\":\n",
    "        do = False\n",
    "        continue\n",
    "\n",
    "    if do:\n",
    "        string_vals = found_mul.replace('mul(', '').replace(')', '').replace(r'\\s*', '').split(',')\n",
    "        int_vals = []\n",
    "\n",
    "        for string_val in string_vals:\n",
    "            int_vals.append(int(string_val))\n",
    "\n",
    "        result += np.multiply(*int_vals)"
   ]
  },
  {
   "cell_type": "code",
   "execution_count": 172,
   "id": "2fa8efc4",
   "metadata": {},
   "outputs": [
    {
     "data": {
      "text/plain": [
       "76911921"
      ]
     },
     "execution_count": 172,
     "metadata": {},
     "output_type": "execute_result"
    }
   ],
   "source": [
    "int(result)"
   ]
  }
 ],
 "metadata": {
  "kernelspec": {
   "display_name": "Python 3",
   "language": "python",
   "name": "python3"
  },
  "language_info": {
   "codemirror_mode": {
    "name": "ipython",
    "version": 3
   },
   "file_extension": ".py",
   "mimetype": "text/x-python",
   "name": "python",
   "nbconvert_exporter": "python",
   "pygments_lexer": "ipython3",
   "version": "3.12.4"
  }
 },
 "nbformat": 4,
 "nbformat_minor": 5
}
