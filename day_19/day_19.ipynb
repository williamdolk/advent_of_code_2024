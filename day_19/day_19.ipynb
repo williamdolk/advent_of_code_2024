{
 "cells": [
  {
   "cell_type": "markdown",
   "id": "a05aa2e5",
   "metadata": {},
   "source": [
    "# Day 19\n",
    "## Puzzle 1"
   ]
  },
  {
   "cell_type": "code",
   "execution_count": 904,
   "id": "f39be08f",
   "metadata": {},
   "outputs": [],
   "source": [
    "import numpy as np\n",
    "from scipy import optimize as opt\n",
    "from itertools import combinations\n",
    "import networkx as nx\n",
    "import re\n",
    "from tqdm import tqdm"
   ]
  },
  {
   "cell_type": "code",
   "execution_count": 905,
   "id": "e0bd0386",
   "metadata": {},
   "outputs": [],
   "source": [
    "input_file = 'input_1.txt'\n",
    "# input_file = 'test_input_1.txt'"
   ]
  },
  {
   "cell_type": "markdown",
   "id": "88947653",
   "metadata": {},
   "source": [
    "Read towel patterns and designs from input."
   ]
  },
  {
   "cell_type": "code",
   "execution_count": 906,
   "id": "db16a711",
   "metadata": {},
   "outputs": [],
   "source": [
    "with open(file=input_file, mode=\"r\") as file:\n",
    "    text_parts = file.read().split('\\n\\n')\n",
    "    patterns = text_parts[0].replace(' ', '').split(',')\n",
    "    designs = text_parts[1].split('\\n')"
   ]
  },
  {
   "cell_type": "code",
   "execution_count": 907,
   "id": "1d6a0fa5",
   "metadata": {},
   "outputs": [
    {
     "data": {
      "text/plain": [
       "['urbu',\n",
       " 'wrrbwrg',\n",
       " 'rgug',\n",
       " 'uwb',\n",
       " 'uwg',\n",
       " 'wubwgu',\n",
       " 'bgrwu',\n",
       " 'gubbuu',\n",
       " 'wrrub',\n",
       " 'rbr']"
      ]
     },
     "execution_count": 907,
     "metadata": {},
     "output_type": "execute_result"
    }
   ],
   "source": [
    "patterns[:10]"
   ]
  },
  {
   "cell_type": "code",
   "execution_count": 908,
   "id": "2cc3a403",
   "metadata": {},
   "outputs": [
    {
     "data": {
      "text/plain": [
       "['wbrurgggrgbuwguwuwuwuwwwwgugwbwrwwuguwrrwubwuwrgwbugw',\n",
       " 'uubrgurbrbgwgbbrruwrwrwgbrrgguuwrwbrgwgwgrgrgu',\n",
       " 'bugwgurruguwwbgwuuggrrbrubgggbgrubbwuuuuuurrgwwurwguwugggg',\n",
       " 'brwugubrrbrgubrwubgwbrggrrrbwburgbugrwbrwubbg',\n",
       " 'gbggwbrwugrbbrrbbrgbbbuguwwurrgguwrbubbbgbbgbbbg',\n",
       " 'bgrwgugurwugurrwwgwbrruubuwuwggrubwrbbugggw',\n",
       " 'wbrwrugwbugrubgwuggguwubbbrbrgrugwugggggrbbugwbgbbrbbg',\n",
       " 'rwrbbrubwrbbbwurggwgurrwubgrwwwurwgburbbwgwu',\n",
       " 'rubbbgggwuwggubuwgrrwurwgwbrwrguurugbgrgbbuburgbg',\n",
       " 'bggubbgrgruubbbubrbburggguwgggrrguuwuubrugbgbgwuruur']"
      ]
     },
     "execution_count": 908,
     "metadata": {},
     "output_type": "execute_result"
    }
   ],
   "source": [
    "designs[:10]"
   ]
  },
  {
   "cell_type": "markdown",
   "id": "35b0c2bb",
   "metadata": {},
   "source": [
    "Turn matching patterns into column vectors of the matrix $A$ and use MILP (mixed integer linear programming) to solve the equation $A\\vec{x}=\\vec{b}$, where $\\vec{b}=\\begin{pmatrix} 1 & 1 & 1 & ... & 1 \\end{pmatrix}^{T}$, for $x_i \\in \\{0, 1\\}$. Every feasible solutions counts towards the total number of possible towel designs."
   ]
  },
  {
   "cell_type": "code",
   "execution_count": 909,
   "id": "631a5c30",
   "metadata": {},
   "outputs": [
    {
     "name": "stderr",
     "output_type": "stream",
     "text": [
      "100%|██████████| 400/400 [00:02<00:00, 141.12it/s]\n"
     ]
    }
   ],
   "source": [
    "num_possible_designs = 0\n",
    "\n",
    "for design in tqdm(designs):\n",
    "    design_num_characters = len(design)\n",
    "    vector_matches = []\n",
    "\n",
    "    for pattern in patterns:\n",
    "        for found_match in re.finditer(f'(?={re.escape(pattern)})', design):\n",
    "            match_start = found_match.start()\n",
    "            match_end = match_start + len(pattern)\n",
    "            vector_match = [0]*match_start + [1]*len(pattern) + [0]*(design_num_characters - match_end)\n",
    "            vector_matches.append(vector_match)\n",
    "\n",
    "    A = np.matrix(vector_matches).T\n",
    "    b = np.array([1]*design_num_characters)\n",
    "    c = np.array([0]*A.shape[1])\n",
    "    bounds = opt.Bounds(0, 1)\n",
    "    integrality = np.full_like(c, True)\n",
    "    constraints = opt.LinearConstraint(A, lb=b, ub=b)\n",
    "    result = opt.milp(c=c, constraints=constraints, integrality=integrality, bounds=bounds)\n",
    "    \n",
    "    if result.success:\n",
    "        num_possible_designs += 1"
   ]
  },
  {
   "cell_type": "code",
   "execution_count": 910,
   "id": "5795a959",
   "metadata": {},
   "outputs": [
    {
     "data": {
      "text/plain": [
       "300"
      ]
     },
     "execution_count": 910,
     "metadata": {},
     "output_type": "execute_result"
    }
   ],
   "source": [
    "num_possible_designs"
   ]
  },
  {
   "cell_type": "markdown",
   "id": "06c188e8",
   "metadata": {},
   "source": [
    "## Puzzle 2"
   ]
  },
  {
   "cell_type": "markdown",
   "id": "add65045",
   "metadata": {},
   "source": [
    "Once again, create nodes and edges in order to create directed graphs and count the number of walks from the start nodes, to the end nodes, for every towel design."
   ]
  },
  {
   "cell_type": "code",
   "execution_count": 911,
   "id": "e457fd16",
   "metadata": {},
   "outputs": [
    {
     "name": "stderr",
     "output_type": "stream",
     "text": [
      "100%|██████████| 400/400 [00:07<00:00, 56.87it/s]\n"
     ]
    }
   ],
   "source": [
    "num_possible_designs = 0\n",
    "\n",
    "for design in tqdm(designs):\n",
    "    design_length = len(design)\n",
    "    nodes = []\n",
    "    start_nodes = []\n",
    "    end_nodes = []\n",
    "    edges = []\n",
    "\n",
    "    for pattern in patterns:\n",
    "        for found_match in re.finditer(f'(?={re.escape(pattern)})', design):\n",
    "            match_start = found_match.start()\n",
    "            match_end = match_start + len(pattern)\n",
    "            node = (match_start, match_end)\n",
    "            nodes.append(node)\n",
    "\n",
    "            if node[0] == 0:\n",
    "                start_nodes.append(node)\n",
    "\n",
    "            elif node[1] == design_length:\n",
    "                end_nodes.append(node)\n",
    "    \n",
    "    for n1, n2 in combinations(nodes, 2):\n",
    "        if n1[1] == n2[0]:\n",
    "            edges.append((n1, n2))\n",
    "\n",
    "        elif n2[1] == n1[0]:\n",
    "            edges.append((n2, n1))\n",
    "\n",
    "    D = nx.DiGraph()\n",
    "    D.add_edges_from(edges)\n",
    "\n",
    "    if not D.nodes:\n",
    "        continue\n",
    "\n",
    "    start_nodes = [start_node for start_node in start_nodes if start_node in D.nodes]\n",
    "    end_nodes = [end_node for end_node in end_nodes if end_node in D.nodes]\n",
    "    start_nodes_index = np.array([node in start_nodes for node in D.nodes])\n",
    "    end_nodes_index = np.array([node in end_nodes for node in D.nodes])\n",
    "    A = nx.linalg.adjacency_matrix(D).toarray()\n",
    "    current_rows = A[start_nodes_index, :]\n",
    "    \n",
    "    while current_rows.sum() > 0:\n",
    "        num_possible_designs += int(current_rows[:, end_nodes_index].sum())\n",
    "        current_rows = current_rows@A"
   ]
  },
  {
   "cell_type": "code",
   "execution_count": 912,
   "id": "8e38b966",
   "metadata": {},
   "outputs": [
    {
     "data": {
      "text/plain": [
       "624802218898092"
      ]
     },
     "execution_count": 912,
     "metadata": {},
     "output_type": "execute_result"
    }
   ],
   "source": [
    "num_possible_designs"
   ]
  }
 ],
 "metadata": {
  "kernelspec": {
   "display_name": "Python 3",
   "language": "python",
   "name": "python3"
  },
  "language_info": {
   "codemirror_mode": {
    "name": "ipython",
    "version": 3
   },
   "file_extension": ".py",
   "mimetype": "text/x-python",
   "name": "python",
   "nbconvert_exporter": "python",
   "pygments_lexer": "ipython3",
   "version": "3.12.4"
  }
 },
 "nbformat": 4,
 "nbformat_minor": 5
}
