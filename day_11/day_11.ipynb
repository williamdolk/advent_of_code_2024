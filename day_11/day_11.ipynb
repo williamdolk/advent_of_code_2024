{
 "cells": [
  {
   "cell_type": "markdown",
   "id": "f422107b",
   "metadata": {},
   "source": [
    "# Day 11\n",
    "## Puzzle 1"
   ]
  },
  {
   "cell_type": "code",
   "execution_count": 87,
   "id": "8afda52f",
   "metadata": {},
   "outputs": [],
   "source": [
    "import numpy as np\n",
    "import networkx as nx\n",
    "import matplotlib.pyplot as plt\n",
    "from tqdm import tqdm\n",
    "\n",
    "%matplotlib inline"
   ]
  },
  {
   "cell_type": "code",
   "execution_count": 88,
   "id": "b3f94fbd",
   "metadata": {},
   "outputs": [],
   "source": [
    "input_file = 'input_1.txt'\n",
    "# input_file = 'test_input_1.txt'\n",
    "# input_file = 'test_input_2.txt'"
   ]
  },
  {
   "cell_type": "markdown",
   "id": "5c234445",
   "metadata": {},
   "source": [
    "Read input line."
   ]
  },
  {
   "cell_type": "code",
   "execution_count": 89,
   "id": "61d48458",
   "metadata": {},
   "outputs": [],
   "source": [
    "with open(file=input_file, mode=\"r\") as file:\n",
    "    line = file.read().strip().split()"
   ]
  },
  {
   "cell_type": "markdown",
   "id": "1c644137",
   "metadata": {},
   "source": [
    "Iterate (blink) 25 times and update the line according to the three rules. The answer is the length of the line in the last iteration."
   ]
  },
  {
   "cell_type": "code",
   "execution_count": 90,
   "id": "1eea58b1",
   "metadata": {},
   "outputs": [],
   "source": [
    "puzzle_1_line = line.copy()\n",
    "\n",
    "n = 25\n",
    "\n",
    "for i in range(n):\n",
    "    new_line = []\n",
    "\n",
    "    for val in puzzle_1_line:\n",
    "        if int(val) == 0:\n",
    "            new_line.append('1')\n",
    "\n",
    "        elif len(val) % 2 == 0:\n",
    "            new_line.append(str(int(val[:int(len(val)/2)])))\n",
    "            new_line.append(str(int(val[int(len(val)/2):])))\n",
    "\n",
    "        else:\n",
    "            new_line.append(str(int(val)*2024))\n",
    "\n",
    "    puzzle_1_line = new_line\n"
   ]
  },
  {
   "cell_type": "code",
   "execution_count": 91,
   "id": "e798c2c9",
   "metadata": {},
   "outputs": [
    {
     "data": {
      "text/plain": [
       "194482"
      ]
     },
     "execution_count": 91,
     "metadata": {},
     "output_type": "execute_result"
    }
   ],
   "source": [
    "len(new_line)"
   ]
  },
  {
   "cell_type": "markdown",
   "id": "3e5fdd09",
   "metadata": {},
   "source": [
    "## Puzzle 2"
   ]
  },
  {
   "cell_type": "markdown",
   "id": "43faa2f5",
   "metadata": {},
   "source": [
    "Oooops... Iterating 75 times, using the same strategy as in part one, is not really optimal..."
   ]
  },
  {
   "cell_type": "markdown",
   "id": "bb2dc980",
   "metadata": {},
   "source": [
    "Instead, we iterate 75 times (at most) and connect edges between nodes (the stone numbers) according to the rules. This way, we don't calculate the same thing more than once."
   ]
  },
  {
   "cell_type": "code",
   "execution_count": 92,
   "id": "a5529d13",
   "metadata": {},
   "outputs": [],
   "source": [
    "puzzle_2_line = line.copy()\n",
    "start_nodes = []\n",
    "edges = []\n",
    "n = 75\n",
    "\n",
    "for i in range(n):\n",
    "    new_line = []\n",
    "\n",
    "    for val in puzzle_2_line:\n",
    "        if val not in start_nodes:\n",
    "            start_nodes.append(val)\n",
    "\n",
    "        else:\n",
    "            continue\n",
    "\n",
    "        if int(val) == 0:\n",
    "            new_val = '1'\n",
    "            edges.append((val, new_val))\n",
    "\n",
    "            if new_val not in start_nodes:\n",
    "                new_line.append(new_val)\n",
    "\n",
    "        elif len(val) % 2 == 0:\n",
    "            new_val_1 = str(int(val[:int(len(val)/2)]))\n",
    "            new_val_2 = str(int(val[int(len(val)/2):]))\n",
    "            edges.append((val, new_val_1))\n",
    "            edges.append((val, new_val_2))\n",
    "\n",
    "            if new_val_1 not in start_nodes:\n",
    "                new_line.append(new_val_1)\n",
    "\n",
    "            if new_val_2 not in start_nodes:\n",
    "                new_line.append(new_val_2)\n",
    "\n",
    "        else:\n",
    "            new_val = str(int(val)*2024)\n",
    "            edges.append((val, new_val))\n",
    "\n",
    "            if new_val not in start_nodes:\n",
    "                new_line.append(new_val)\n",
    "\n",
    "    if not new_line:\n",
    "        break\n",
    "    \n",
    "    puzzle_2_line = new_line"
   ]
  },
  {
   "cell_type": "code",
   "execution_count": 93,
   "id": "c7b33b36",
   "metadata": {},
   "outputs": [
    {
     "data": {
      "text/plain": [
       "['0', '27', '5409930', '828979', '4471', '3', '68524', '170', '1', '2']"
      ]
     },
     "execution_count": 93,
     "metadata": {},
     "output_type": "execute_result"
    }
   ],
   "source": [
    "start_nodes[:10]"
   ]
  },
  {
   "cell_type": "code",
   "execution_count": 94,
   "id": "d83781f0",
   "metadata": {},
   "outputs": [
    {
     "data": {
      "text/plain": [
       "[('0', '1'),\n",
       " ('27', '2'),\n",
       " ('27', '7'),\n",
       " ('5409930', '10949698320'),\n",
       " ('828979', '828'),\n",
       " ('828979', '979'),\n",
       " ('4471', '44'),\n",
       " ('4471', '71'),\n",
       " ('3', '6072'),\n",
       " ('68524', '138692576')]"
      ]
     },
     "execution_count": 94,
     "metadata": {},
     "output_type": "execute_result"
    }
   ],
   "source": [
    "edges[:10]"
   ]
  },
  {
   "cell_type": "markdown",
   "id": "bc2cef57",
   "metadata": {},
   "source": [
    "Create a multigraph from the edges."
   ]
  },
  {
   "cell_type": "code",
   "execution_count": 95,
   "id": "3e743850",
   "metadata": {},
   "outputs": [],
   "source": [
    "D = nx.MultiDiGraph()\n",
    "_ = D.add_edges_from(edges)  # Catch the annoying output with the variable _."
   ]
  },
  {
   "cell_type": "markdown",
   "id": "ba28fde3",
   "metadata": {},
   "source": [
    "Plot the graph (only for test input)."
   ]
  },
  {
   "cell_type": "code",
   "execution_count": 96,
   "id": "efa327d8",
   "metadata": {},
   "outputs": [],
   "source": [
    "if input_file.startswith('test'):\n",
    "    plt.figure(figsize=(20, 20))\n",
    "    nx.draw_circular(D, with_labels=True)"
   ]
  },
  {
   "cell_type": "markdown",
   "id": "500f19f6",
   "metadata": {},
   "source": [
    "Extract the adjacency matrix of the graph."
   ]
  },
  {
   "cell_type": "code",
   "execution_count": 97,
   "id": "a27dc0dc",
   "metadata": {},
   "outputs": [],
   "source": [
    "A = nx.linalg.adjacency_matrix(D).toarray()"
   ]
  },
  {
   "cell_type": "markdown",
   "id": "5229ac0c",
   "metadata": {},
   "source": [
    "Instead of raising the adjacency matrix to the 75:th power (which takes forever for the puzzle input), only multiply the rows corresponding to the starting values with 75 times. The sum of the resulting matrix elements is the answer we are looking for. The values of the martix correspond to the number of walks of length 75 from the starting nodes to the other nodes of the graph."
   ]
  },
  {
   "cell_type": "code",
   "execution_count": 98,
   "id": "075516ee",
   "metadata": {},
   "outputs": [
    {
     "name": "stderr",
     "output_type": "stream",
     "text": [
      "100%|██████████| 75/75 [00:14<00:00,  5.14it/s]\n"
     ]
    }
   ],
   "source": [
    "current_rows = [node in line for node in D.nodes]\n",
    "\n",
    "for i in tqdm(range(n)):\n",
    "    current_rows = current_rows@A"
   ]
  },
  {
   "cell_type": "code",
   "execution_count": 99,
   "id": "43a6157a",
   "metadata": {},
   "outputs": [
    {
     "data": {
      "text/plain": [
       "232454623677743"
      ]
     },
     "execution_count": 99,
     "metadata": {},
     "output_type": "execute_result"
    }
   ],
   "source": [
    "int(sum(current_rows))"
   ]
  }
 ],
 "metadata": {
  "kernelspec": {
   "display_name": "Python 3",
   "language": "python",
   "name": "python3"
  },
  "language_info": {
   "codemirror_mode": {
    "name": "ipython",
    "version": 3
   },
   "file_extension": ".py",
   "mimetype": "text/x-python",
   "name": "python",
   "nbconvert_exporter": "python",
   "pygments_lexer": "ipython3",
   "version": "3.12.4"
  }
 },
 "nbformat": 4,
 "nbformat_minor": 5
}
