{
 "cells": [
  {
   "cell_type": "markdown",
   "id": "a0365f2f",
   "metadata": {},
   "source": [
    "# Day 15\n",
    "## Puzzle 1"
   ]
  },
  {
   "cell_type": "code",
   "execution_count": 1,
   "id": "a412e334",
   "metadata": {},
   "outputs": [],
   "source": [
    "import numpy as np"
   ]
  },
  {
   "cell_type": "code",
   "execution_count": 2,
   "id": "65f8b24c",
   "metadata": {},
   "outputs": [],
   "source": [
    "input_file = 'input_1.txt'\n",
    "# input_file = 'test_input_1.txt'\n",
    "# input_file = 'test_input_2.txt'\n",
    "# input_file = 'test_input_3.txt'"
   ]
  },
  {
   "cell_type": "markdown",
   "id": "992a67fa",
   "metadata": {},
   "source": [
    "Read input warehouse map."
   ]
  },
  {
   "cell_type": "code",
   "execution_count": 3,
   "id": "3aa1399b",
   "metadata": {},
   "outputs": [],
   "source": [
    "with open(file=input_file, mode=\"r\") as file:\n",
    "    map_lines = []\n",
    "    file_content = file.read().split('\\n\\n')\n",
    "\n",
    "    for line in file_content[0].split('\\n'):\n",
    "        map_lines.append(list(line.strip()))\n",
    "\n",
    "    moves = list(file_content[1].replace(' ', '').replace('\\n', ''))\n",
    "    map_matrix = np.matrix(map_lines)"
   ]
  },
  {
   "cell_type": "code",
   "execution_count": 4,
   "id": "4ac2f865",
   "metadata": {},
   "outputs": [
    {
     "data": {
      "text/plain": [
       "matrix([['#', '#', '#', ..., '#', '#', '#'],\n",
       "        ['#', '.', '#', ..., '#', '.', '#'],\n",
       "        ['#', '.', '.', ..., '.', 'O', '#'],\n",
       "        ...,\n",
       "        ['#', 'O', 'O', ..., '.', '.', '#'],\n",
       "        ['#', 'O', '.', ..., 'O', 'O', '#'],\n",
       "        ['#', '#', '#', ..., '#', '#', '#']], dtype='<U1')"
      ]
     },
     "execution_count": 4,
     "metadata": {},
     "output_type": "execute_result"
    }
   ],
   "source": [
    "map_matrix"
   ]
  },
  {
   "cell_type": "code",
   "execution_count": 5,
   "id": "edd62a5b",
   "metadata": {},
   "outputs": [
    {
     "data": {
      "text/plain": [
       "['<', '>', '<', '>', '^', '<', '^', '^', 'v', 'v']"
      ]
     },
     "execution_count": 5,
     "metadata": {},
     "output_type": "execute_result"
    }
   ],
   "source": [
    "moves[:10]"
   ]
  },
  {
   "cell_type": "markdown",
   "id": "fb811eff",
   "metadata": {},
   "source": [
    "Extract starting position."
   ]
  },
  {
   "cell_type": "code",
   "execution_count": 6,
   "id": "67aa2c80",
   "metadata": {},
   "outputs": [],
   "source": [
    "puzzle_1_map_matrix = map_matrix.copy()\n",
    "starting_position = None\n",
    "m, n = puzzle_1_map_matrix.shape\n",
    "\n",
    "for i in range(m):\n",
    "    for j in range(n):\n",
    "        if puzzle_1_map_matrix[i, j] == '@':\n",
    "            starting_position = np.array([i, j])"
   ]
  },
  {
   "cell_type": "markdown",
   "id": "45bf8607",
   "metadata": {},
   "source": [
    "Iterate through the list of moves."
   ]
  },
  {
   "cell_type": "code",
   "execution_count": 7,
   "id": "675b2834",
   "metadata": {},
   "outputs": [],
   "source": [
    "current_position = starting_position\n",
    "directions = {'^': np.array([-1, 0]), '>': np.array([0, 1]), 'v': np.array([1, 0]), '<': np.array([0, -1])}\n",
    "\n",
    "for move in moves:\n",
    "    current_direction = directions[move]\n",
    "    next_position = current_position + current_direction\n",
    "    next_position_value = puzzle_1_map_matrix[*next_position]\n",
    "\n",
    "    if next_position_value in ('.', '@'):  # Move to the next position if it is free.\n",
    "        current_position = next_position\n",
    "\n",
    "    elif next_position_value == 'O':  # If there is a box in the next position, we keep looking further and further behind the box until we find somthing else than a box (free space or wall).\n",
    "        next_box_position = next_position + current_direction\n",
    "\n",
    "        while puzzle_1_map_matrix[*next_box_position] == 'O':\n",
    "            next_box_position += current_direction\n",
    "\n",
    "        value_behind_boxes = puzzle_1_map_matrix[*next_box_position]\n",
    "\n",
    "        if value_behind_boxes in ('.', '@'):  # If the space is free, we move the box from the next position to the free space and place ourself in the next position.\n",
    "            puzzle_1_map_matrix[*next_box_position] = 'O'\n",
    "            puzzle_1_map_matrix[*next_position] = '.'\n",
    "            current_position = next_position\n",
    "\n",
    "        else:\n",
    "            continue\n",
    "            \n",
    "    else:\n",
    "        continue"
   ]
  },
  {
   "cell_type": "code",
   "execution_count": 8,
   "id": "cada3170",
   "metadata": {},
   "outputs": [
    {
     "name": "stdout",
     "output_type": "stream",
     "text": [
      "[['#' '#' '#' ... '#' '#' '#']\n",
      " ['#' 'O' '#' ... '#' '.' '#']\n",
      " ['#' 'O' 'O' ... 'O' 'O' '#']\n",
      " ...\n",
      " ['#' 'O' 'O' ... '.' '.' '#']\n",
      " ['#' 'O' 'O' ... 'O' 'O' '#']\n",
      " ['#' '#' '#' ... '#' '#' '#']]\n"
     ]
    }
   ],
   "source": [
    "print(puzzle_1_map_matrix)"
   ]
  },
  {
   "cell_type": "markdown",
   "id": "988cc49a",
   "metadata": {},
   "source": [
    "Calculate the reusult according to the GPS coordinate system."
   ]
  },
  {
   "cell_type": "code",
   "execution_count": 9,
   "id": "ff382677",
   "metadata": {},
   "outputs": [],
   "source": [
    "gps_coordinate_result = 0\n",
    "\n",
    "for i in range(m):\n",
    "    for j in range(n):\n",
    "        if puzzle_1_map_matrix[i, j] == 'O':\n",
    "            gps_coordinate_result += 100*i + j"
   ]
  },
  {
   "cell_type": "code",
   "execution_count": 10,
   "id": "272fbfb7",
   "metadata": {},
   "outputs": [
    {
     "data": {
      "text/plain": [
       "1559280"
      ]
     },
     "execution_count": 10,
     "metadata": {},
     "output_type": "execute_result"
    }
   ],
   "source": [
    "gps_coordinate_result"
   ]
  },
  {
   "cell_type": "markdown",
   "id": "dae9e1b1",
   "metadata": {},
   "source": [
    "## Puzzle 2"
   ]
  },
  {
   "cell_type": "markdown",
   "id": "9efe9717",
   "metadata": {},
   "source": [
    "Make the map twice as wide."
   ]
  },
  {
   "cell_type": "code",
   "execution_count": 11,
   "id": "1163ccdc",
   "metadata": {},
   "outputs": [],
   "source": [
    "updated_map = []\n",
    "\n",
    "for i in range(m):\n",
    "    line = []\n",
    "\n",
    "    for j in range(n):\n",
    "        if map_matrix[i, j] == '@':\n",
    "            line.extend(['@', '.'])\n",
    "\n",
    "        elif map_matrix[i, j] == 'O':\n",
    "            line.extend(['[', ']'])\n",
    "\n",
    "        else:\n",
    "            line.extend([map_matrix[i, j]]*2)\n",
    "\n",
    "    updated_map.append(line)\n",
    "\n",
    "updated_map_matrix = np.matrix(updated_map)"
   ]
  },
  {
   "cell_type": "code",
   "execution_count": 12,
   "id": "05aa2c1e",
   "metadata": {},
   "outputs": [
    {
     "name": "stdout",
     "output_type": "stream",
     "text": [
      "[['#' '#' '#' ... '#' '#' '#']\n",
      " ['#' '#' '.' ... '.' '#' '#']\n",
      " ['#' '#' '.' ... ']' '#' '#']\n",
      " ...\n",
      " ['#' '#' '[' ... '.' '#' '#']\n",
      " ['#' '#' '[' ... ']' '#' '#']\n",
      " ['#' '#' '#' ... '#' '#' '#']]\n"
     ]
    }
   ],
   "source": [
    "print(updated_map_matrix)"
   ]
  },
  {
   "cell_type": "markdown",
   "id": "2ba3bf39",
   "metadata": {},
   "source": [
    "Find the starting position in the wide map."
   ]
  },
  {
   "cell_type": "code",
   "execution_count": 13,
   "id": "5ee845a1",
   "metadata": {},
   "outputs": [],
   "source": [
    "puzzle_2_map_matrix = updated_map_matrix.copy()\n",
    "starting_position = None\n",
    "m, n = puzzle_2_map_matrix.shape\n",
    "\n",
    "for i in range(m):\n",
    "    for j in range(n):\n",
    "        if puzzle_2_map_matrix[i, j] == '@':\n",
    "            starting_position = np.array([i, j])"
   ]
  },
  {
   "cell_type": "markdown",
   "id": "b37e6bc0",
   "metadata": {},
   "source": [
    "Once again, iterate through the of moves."
   ]
  },
  {
   "cell_type": "code",
   "execution_count": 14,
   "id": "a5bc99dd",
   "metadata": {},
   "outputs": [],
   "source": [
    "current_position = starting_position\n",
    "directions = {'^': np.array([-1, 0]), '>': np.array([0, 1]), 'v': np.array([1, 0]), '<': np.array([0, -1])}\n",
    "\n",
    "for move in moves:\n",
    "    current_direction = directions[move]\n",
    "    next_position = current_position + current_direction\n",
    "    next_position_value = puzzle_2_map_matrix[*next_position]\n",
    "\n",
    "    if next_position_value in ('.', '@'):  # Same as before.\n",
    "        current_position = next_position\n",
    "\n",
    "    elif next_position_value in('[', ']'):\n",
    "        if move == '>':  # If we are moving sideways, the process is basically the same as before.\n",
    "            next_box_position = next_position + 2*current_direction\n",
    "            box_move_counter = 2\n",
    "\n",
    "            while puzzle_2_map_matrix[*next_box_position] == '[':\n",
    "                next_box_position += 2*current_direction\n",
    "                box_move_counter += 2\n",
    "\n",
    "            value_behind_boxes = puzzle_2_map_matrix[*next_box_position]\n",
    "\n",
    "            if value_behind_boxes in ('.', '@'):\n",
    "                for box_move in range(1, box_move_counter + 1):\n",
    "                    puzzle_2_map_matrix[*(next_position + current_direction*box_move)] = '[' if box_move % 2 == 1 else ']'\n",
    "\n",
    "                puzzle_2_map_matrix[*next_position] = '.'\n",
    "                current_position = next_position\n",
    "\n",
    "            else:\n",
    "                continue\n",
    "\n",
    "        elif move == '<':\n",
    "            next_box_position = next_position + 2*current_direction\n",
    "            box_move_counter = 2\n",
    "\n",
    "            while puzzle_2_map_matrix[*next_box_position] == ']':\n",
    "                next_box_position += 2*current_direction\n",
    "                box_move_counter += 2\n",
    "\n",
    "            value_behind_boxes = puzzle_2_map_matrix[*next_box_position]\n",
    "\n",
    "            if value_behind_boxes in ('.', '@'):\n",
    "                for box_move in range(1, box_move_counter + 1):\n",
    "                    puzzle_2_map_matrix[*(next_position + current_direction*box_move)] = ']' if box_move % 2 == 1 else '['\n",
    "\n",
    "                puzzle_2_map_matrix[*next_position] = '.'\n",
    "                current_position = next_position\n",
    "\n",
    "        else:  # If we are moving up or down, we have to keep track of all the boxes that get affected and move them if there are spaces behind all boxes in the last step.\n",
    "            affected_box_positions = []\n",
    "\n",
    "            if next_position_value == '[':\n",
    "                affected_box_positions.append([next_position, next_position + directions['>']])\n",
    "\n",
    "            else:\n",
    "                affected_box_positions.append([next_position, next_position + directions['<']])\n",
    "\n",
    "            move_possible = False\n",
    "            wall_encountered = False\n",
    "\n",
    "            while not move_possible and not wall_encountered:\n",
    "                affected_box_positions_to_add = set()\n",
    "                all_positions_free = True\n",
    "\n",
    "                for affected_box_position in affected_box_positions[-1]:\n",
    "                    next_box_position = affected_box_position + current_direction\n",
    "                    next_box_position_value = puzzle_2_map_matrix[*next_box_position]\n",
    "\n",
    "                    if next_box_position_value == '[':\n",
    "                        affected_box_positions_to_add |= {tuple(next_box_position), tuple(next_box_position + directions['>'])}\n",
    "                        all_positions_free = False\n",
    "\n",
    "                    elif next_box_position_value == ']':\n",
    "                        affected_box_positions_to_add |= {tuple(next_box_position), tuple(next_box_position + directions['<'])}\n",
    "                        all_positions_free = False\n",
    "\n",
    "                    elif next_box_position_value == '#':\n",
    "                        wall_encountered = True\n",
    "                        all_positions_free = False\n",
    "                        break\n",
    "\n",
    "                    else:\n",
    "                        continue\n",
    "\n",
    "                if all_positions_free:\n",
    "                    move_possible = True\n",
    "\n",
    "                else:\n",
    "                    affected_box_positions.append([np.array(val) for val in list(affected_box_positions_to_add)])\n",
    "\n",
    "            if move_possible:\n",
    "                for affected_box_position_row in affected_box_positions[::-1]:\n",
    "                    for affected_box_position in affected_box_position_row:\n",
    "                        puzzle_2_map_matrix[*(affected_box_position + current_direction)] = puzzle_2_map_matrix[*affected_box_position]\n",
    "                        puzzle_2_map_matrix[*affected_box_position] = '.'\n",
    "\n",
    "                current_position = next_position\n",
    "\n",
    "    else:\n",
    "        continue"
   ]
  },
  {
   "cell_type": "code",
   "execution_count": 15,
   "id": "a6e30e8c",
   "metadata": {},
   "outputs": [
    {
     "name": "stdout",
     "output_type": "stream",
     "text": [
      "[['#' '#' '#' ... '#' '#' '#']\n",
      " ['#' '#' '[' ... '.' '#' '#']\n",
      " ['#' '#' '[' ... ']' '#' '#']\n",
      " ...\n",
      " ['#' '#' '[' ... '.' '#' '#']\n",
      " ['#' '#' '[' ... ']' '#' '#']\n",
      " ['#' '#' '#' ... '#' '#' '#']]\n"
     ]
    }
   ],
   "source": [
    "print(puzzle_2_map_matrix)"
   ]
  },
  {
   "cell_type": "code",
   "execution_count": 16,
   "id": "b0da6586",
   "metadata": {},
   "outputs": [],
   "source": [
    "gps_coordinate_result = 0\n",
    "\n",
    "for i in range(m):\n",
    "    for j in range(n):\n",
    "        if puzzle_2_map_matrix[i, j] == '[':\n",
    "            gps_coordinate_result += 100*i + j"
   ]
  },
  {
   "cell_type": "code",
   "execution_count": 17,
   "id": "84c2ee6a",
   "metadata": {},
   "outputs": [
    {
     "data": {
      "text/plain": [
       "1576353"
      ]
     },
     "execution_count": 17,
     "metadata": {},
     "output_type": "execute_result"
    }
   ],
   "source": [
    "gps_coordinate_result"
   ]
  }
 ],
 "metadata": {
  "kernelspec": {
   "display_name": "Python 3",
   "language": "python",
   "name": "python3"
  },
  "language_info": {
   "codemirror_mode": {
    "name": "ipython",
    "version": 3
   },
   "file_extension": ".py",
   "mimetype": "text/x-python",
   "name": "python",
   "nbconvert_exporter": "python",
   "pygments_lexer": "ipython3",
   "version": "3.12.4"
  }
 },
 "nbformat": 4,
 "nbformat_minor": 5
}
