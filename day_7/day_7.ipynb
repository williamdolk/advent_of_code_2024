{
 "cells": [
  {
   "cell_type": "markdown",
   "id": "941f6bd9",
   "metadata": {},
   "source": [
    "# Day 7\n",
    "## Puzzle 1"
   ]
  },
  {
   "cell_type": "code",
   "execution_count": 59,
   "id": "8319331c",
   "metadata": {},
   "outputs": [],
   "source": [
    "import numpy as np\n",
    "from tqdm import tqdm\n",
    "from itertools import product"
   ]
  },
  {
   "cell_type": "code",
   "execution_count": 60,
   "id": "f12c221b",
   "metadata": {},
   "outputs": [],
   "source": [
    "input_file = 'input_1.txt'\n",
    "# input_file = 'test_input_1.txt'"
   ]
  },
  {
   "cell_type": "markdown",
   "id": "7ed27e99",
   "metadata": {},
   "source": [
    "Read equations from input file."
   ]
  },
  {
   "cell_type": "code",
   "execution_count": 61,
   "id": "ad791c7c",
   "metadata": {},
   "outputs": [],
   "source": [
    "with open(file=input_file, mode='r') as file:\n",
    "    equations = []\n",
    "\n",
    "    for line in file:\n",
    "        line = line.strip().split(':')\n",
    "        equation = [int(line[0].strip()), [int(value) for value in line[1].strip().split(' ')]]\n",
    "        equations.append(equation)"
   ]
  },
  {
   "cell_type": "code",
   "execution_count": 62,
   "id": "4cacb396",
   "metadata": {},
   "outputs": [
    {
     "data": {
      "text/plain": [
       "[[173208328696, [3, 2, 9, 4, 8, 6, 796, 23, 8, 5, 3, 9]],\n",
       " [195319, [5, 44, 8, 71, 124, 2, 967, 38]],\n",
       " [9382, [840, 634, 28, 2, 53, 4, 1, 6, 9]],\n",
       " [1050614, [87, 7, 173, 61, 4]],\n",
       " [46769533, [668, 7, 86, 86, 850]],\n",
       " [50103815, [937, 65, 5, 3, 817]],\n",
       " [11627904330228, [6, 57, 4, 2, 566, 3, 330, 229]],\n",
       " [9640750, [3, 19, 32, 43, 431, 47]],\n",
       " [176753610, [5, 36, 33, 23, 6, 4, 8, 4, 90, 9]],\n",
       " [1491740, [2, 1, 6, 6, 4, 82, 303, 980]]]"
      ]
     },
     "execution_count": 62,
     "metadata": {},
     "output_type": "execute_result"
    }
   ],
   "source": [
    "equations[:10]"
   ]
  },
  {
   "cell_type": "markdown",
   "id": "16a53eff",
   "metadata": {},
   "source": [
    "For an equation with n numbers (in the right-hand side), we need n - 1 operators. Loop through all the permutations of the operators, and if the equations holds (with the left-hand side), add it to the result."
   ]
  },
  {
   "cell_type": "code",
   "execution_count": 72,
   "id": "715c2a17",
   "metadata": {},
   "outputs": [
    {
     "name": "stderr",
     "output_type": "stream",
     "text": [
      "100%|██████████| 850/850 [00:00<00:00, 1297.61it/s]\n"
     ]
    }
   ],
   "source": [
    "correct_test_value_sum = 0\n",
    "\n",
    "for equation in tqdm(equations):\n",
    "    num_operators = len(equation[1]) - 1\n",
    "    \n",
    "    for permutation_of_operators in product(['*', '+'], repeat=num_operators):\n",
    "        equation_result = equation[1][0]\n",
    "\n",
    "        for i in range(num_operators):\n",
    "            if permutation_of_operators[i] == '+':\n",
    "                equation_result += equation[1][i + 1]\n",
    "\n",
    "            elif permutation_of_operators[i] == '*':\n",
    "                equation_result *= equation[1][i + 1]\n",
    "\n",
    "        if equation_result == equation[0]:\n",
    "            correct_test_value_sum += equation[0]\n",
    "            break"
   ]
  },
  {
   "cell_type": "code",
   "execution_count": 64,
   "id": "729a90c2",
   "metadata": {},
   "outputs": [
    {
     "data": {
      "text/plain": [
       "945512582195"
      ]
     },
     "execution_count": 64,
     "metadata": {},
     "output_type": "execute_result"
    }
   ],
   "source": [
    "correct_test_value_sum"
   ]
  },
  {
   "cell_type": "markdown",
   "id": "cac855a8",
   "metadata": {},
   "source": [
    "## Puzzle 2"
   ]
  },
  {
   "cell_type": "code",
   "execution_count": 73,
   "id": "f8a554be",
   "metadata": {},
   "outputs": [
    {
     "name": "stderr",
     "output_type": "stream",
     "text": [
      "100%|██████████| 850/850 [02:40<00:00,  5.29it/s]\n"
     ]
    }
   ],
   "source": [
    "correct_test_value_sum = 0\n",
    "\n",
    "for equation in tqdm(equations):\n",
    "    num_operators = len(equation[1]) - 1\n",
    "    \n",
    "    for permutation_of_operators in product(['*', '+', '||'], repeat=num_operators):\n",
    "        equation_result = equation[1][0]\n",
    "\n",
    "        for i in range(num_operators):\n",
    "            if permutation_of_operators[i] == '+':\n",
    "                equation_result += equation[1][i + 1]\n",
    "\n",
    "            elif permutation_of_operators[i] == '*':\n",
    "                equation_result *= equation[1][i + 1]\n",
    "\n",
    "            elif permutation_of_operators[i] == '||':\n",
    "                equation_result = equation_result*10**int(np.floor(np.log10(equation[1][i + 1])) + 1) + equation[1][i + 1]\n",
    "\n",
    "            if equation_result > equation[0]:\n",
    "                break\n",
    "\n",
    "        if equation_result == equation[0]:\n",
    "            correct_test_value_sum += equation[0]\n",
    "            break"
   ]
  },
  {
   "cell_type": "code",
   "execution_count": 68,
   "id": "c5dd11ad",
   "metadata": {},
   "outputs": [
    {
     "data": {
      "text/plain": [
       "271691107779347"
      ]
     },
     "execution_count": 68,
     "metadata": {},
     "output_type": "execute_result"
    }
   ],
   "source": [
    "correct_test_value_sum"
   ]
  }
 ],
 "metadata": {
  "kernelspec": {
   "display_name": "Python 3",
   "language": "python",
   "name": "python3"
  },
  "language_info": {
   "codemirror_mode": {
    "name": "ipython",
    "version": 3
   },
   "file_extension": ".py",
   "mimetype": "text/x-python",
   "name": "python",
   "nbconvert_exporter": "python",
   "pygments_lexer": "ipython3",
   "version": "3.12.4"
  }
 },
 "nbformat": 4,
 "nbformat_minor": 5
}
