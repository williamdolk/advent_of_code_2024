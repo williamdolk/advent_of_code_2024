{
 "cells": [
  {
   "cell_type": "markdown",
   "id": "f450e279",
   "metadata": {},
   "source": [
    "# Day 2\n",
    "## Puzzle 1"
   ]
  },
  {
   "cell_type": "code",
   "execution_count": 43,
   "id": "91ea83db",
   "metadata": {},
   "outputs": [],
   "source": [
    "import numpy as np"
   ]
  },
  {
   "cell_type": "code",
   "execution_count": 44,
   "id": "cb26275b",
   "metadata": {},
   "outputs": [],
   "source": [
    "input_file = 'input_1.txt'\n",
    "# input_file = 'test_input_1.txt'"
   ]
  },
  {
   "cell_type": "markdown",
   "id": "b8897273",
   "metadata": {},
   "source": [
    "Extract lines from file as arrays of integers."
   ]
  },
  {
   "cell_type": "code",
   "execution_count": 45,
   "id": "c398337c",
   "metadata": {},
   "outputs": [],
   "source": [
    "with open(file=input_file, mode='r') as file:\n",
    "    lines = []\n",
    "    \n",
    "    for line in file:\n",
    "        vals = line.strip().split()\n",
    "        vals = np.array([int(val) for val in vals])\n",
    "        lines.append(vals)"
   ]
  },
  {
   "cell_type": "code",
   "execution_count": 46,
   "id": "0a60e3b9",
   "metadata": {},
   "outputs": [],
   "source": [
    "ok_lines_count = 0\n",
    "\n",
    "for line in lines:\n",
    "    line_diff = np.diff(line)  # Calculates the difference between adjacent numbers.\n",
    "    line_abs_diff = np.abs(line_diff)  # Takes the absolute value of all the differences.\n",
    "    line_diff_ok = False\n",
    "    line_abs_diff_ok = False\n",
    "\n",
    "    if (line_diff >= 0).all() or (line_diff <= 0).all():\n",
    "        line_diff_ok = True\n",
    "\n",
    "    if (line_abs_diff >= 1).all() and (line_abs_diff <= 3).all():\n",
    "        line_abs_diff_ok = True\n",
    "\n",
    "    if line_diff_ok and line_abs_diff_ok:\n",
    "        ok_lines_count += 1"
   ]
  },
  {
   "cell_type": "markdown",
   "id": "a030b914",
   "metadata": {},
   "source": [
    "Print result."
   ]
  },
  {
   "cell_type": "code",
   "execution_count": 47,
   "id": "81f1b9bf",
   "metadata": {},
   "outputs": [
    {
     "name": "stdout",
     "output_type": "stream",
     "text": [
      "663\n"
     ]
    }
   ],
   "source": [
    "print(ok_lines_count)"
   ]
  },
  {
   "cell_type": "markdown",
   "id": "7746086b",
   "metadata": {},
   "source": [
    "## Puzzle 2"
   ]
  },
  {
   "cell_type": "code",
   "execution_count": 48,
   "id": "9bdddd78",
   "metadata": {},
   "outputs": [],
   "source": [
    "ok_lines_count = 0\n",
    "\n",
    "for line in lines:\n",
    "    for i in range(len(line)):\n",
    "        line_val_removed = np.delete(line, i)  # Remove one element at a time.\n",
    "\n",
    "        line_diff = np.diff(line_val_removed)\n",
    "        line_abs_diff = np.abs(line_diff)\n",
    "        line_diff_ok = False\n",
    "        line_abs_diff_ok = False\n",
    "\n",
    "        if (line_diff >= 0).all() or (line_diff <= 0).all():\n",
    "            line_diff_ok = True\n",
    "\n",
    "        if (line_abs_diff >= 1).all() and (line_abs_diff <= 3).all():\n",
    "            line_abs_diff_ok = True\n",
    "\n",
    "        if line_diff_ok and line_abs_diff_ok:\n",
    "            ok_lines_count += 1\n",
    "            break  # Break if conditions are met."
   ]
  },
  {
   "cell_type": "markdown",
   "id": "39c8e57b",
   "metadata": {},
   "source": [
    "Print result."
   ]
  },
  {
   "cell_type": "code",
   "execution_count": 49,
   "id": "e13e2b71",
   "metadata": {},
   "outputs": [
    {
     "name": "stdout",
     "output_type": "stream",
     "text": [
      "692\n"
     ]
    }
   ],
   "source": [
    "print(ok_lines_count)"
   ]
  }
 ],
 "metadata": {
  "kernelspec": {
   "display_name": "Python 3",
   "language": "python",
   "name": "python3"
  },
  "language_info": {
   "codemirror_mode": {
    "name": "ipython",
    "version": 3
   },
   "file_extension": ".py",
   "mimetype": "text/x-python",
   "name": "python",
   "nbconvert_exporter": "python",
   "pygments_lexer": "ipython3",
   "version": "3.12.4"
  }
 },
 "nbformat": 4,
 "nbformat_minor": 5
}
