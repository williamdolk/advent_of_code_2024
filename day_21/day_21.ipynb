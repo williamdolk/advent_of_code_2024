{
 "cells": [
  {
   "cell_type": "markdown",
   "id": "f23ae2e3",
   "metadata": {},
   "source": [
    "# Day 21\n",
    "## Puzzle 1"
   ]
  },
  {
   "cell_type": "code",
   "execution_count": 32,
   "id": "de64fc48",
   "metadata": {},
   "outputs": [],
   "source": [
    "import networkx as nx\n",
    "from itertools import product\n",
    "from tqdm import tqdm"
   ]
  },
  {
   "cell_type": "code",
   "execution_count": 33,
   "id": "3cb65700",
   "metadata": {},
   "outputs": [],
   "source": [
    "# input_file = 'input_1.txt'\n",
    "input_file = 'test_input_1.txt'"
   ]
  },
  {
   "cell_type": "code",
   "execution_count": 34,
   "id": "ad2b6242",
   "metadata": {},
   "outputs": [],
   "source": [
    "with open(file=input_file, mode=\"r\") as file:\n",
    "    codes = file.read().split('\\n')"
   ]
  },
  {
   "cell_type": "code",
   "execution_count": 35,
   "id": "d8013eb5",
   "metadata": {},
   "outputs": [
    {
     "data": {
      "text/plain": [
       "['029A', '980A', '179A', '456A', '379A']"
      ]
     },
     "execution_count": 35,
     "metadata": {},
     "output_type": "execute_result"
    }
   ],
   "source": [
    "codes"
   ]
  },
  {
   "cell_type": "code",
   "execution_count": 36,
   "id": "696655f6",
   "metadata": {},
   "outputs": [],
   "source": [
    "numpad_edges_with_directions = {\n",
    "    ('A', '0'): '<',\n",
    "    ('A', '3'): '^',\n",
    "    ('3', '2'): '<',\n",
    "    ('3', '6'): '^',\n",
    "    ('3', 'A'): 'v',\n",
    "    ('6', '5'): '<',\n",
    "    ('6', '9'): '^',\n",
    "    ('6', '3'): 'v',\n",
    "    ('9', '8'): '<',\n",
    "    ('9', '6'): 'v',\n",
    "    ('0', '2'): '^',\n",
    "    ('0', 'A'): '>',\n",
    "    ('2', '1'): '<',\n",
    "    ('2', '5'): '^',\n",
    "    ('2', '3'): '>',\n",
    "    ('2', '0'): 'v',\n",
    "    ('5', '4'): '<',\n",
    "    ('5', '8'): '^',\n",
    "    ('5', '6'): '>',\n",
    "    ('5', '2'): 'v',\n",
    "    ('8', '7'): '<',\n",
    "    ('8', '9'): '>',\n",
    "    ('8', '5'): 'v',\n",
    "    ('1', '4'): '^',\n",
    "    ('1', '2'): '>',\n",
    "    ('4', '7'): '^',\n",
    "    ('4', '5'): '>',\n",
    "    ('4', '1'): 'v',\n",
    "    ('7', '8'): '>',\n",
    "    ('7', '4'): 'v',\n",
    "}"
   ]
  },
  {
   "cell_type": "code",
   "execution_count": 37,
   "id": "0fdc6fc9",
   "metadata": {},
   "outputs": [],
   "source": [
    "dpad_edges_with_directions = {\n",
    "    ('>', 'v'): '<',\n",
    "    ('>', 'A'): '^',\n",
    "    ('A', '^'): '<',\n",
    "    ('A', '>'): 'v',\n",
    "    ('v', '<'): '<',\n",
    "    ('v', '^'): '^',\n",
    "    ('v', '>'): '>',\n",
    "    ('^', 'A'): '>',\n",
    "    ('^', 'v'): 'v',\n",
    "    ('<', 'v'): '>',\n",
    "}"
   ]
  },
  {
   "cell_type": "code",
   "execution_count": 38,
   "id": "74b0c25b",
   "metadata": {},
   "outputs": [],
   "source": [
    "numpad_buttons = list('0123456789A')\n",
    "dpad_buttons = list('<^>vA')\n",
    "edges = []\n",
    "\n",
    "for n1 in product(*[dpad_buttons]*3, numpad_buttons):\n",
    "    for n2 in product(*[dpad_buttons]*3, numpad_buttons):\n",
    "        edge_ok = False\n",
    "\n",
    "        if dpad_edges_with_directions.get((n1[1], n2[1])) == n2[0] and n1[2] == n2[2] and n1[3] == n2[3] and n1[0] != n2[0]:\n",
    "            edge_ok = True\n",
    "\n",
    "        elif dpad_edges_with_directions.get((n1[2], n2[2])) == n2[1] and n2[0] == 'A' and n1[1] == n2[1] and n1[3] == n2[3]:\n",
    "            edge_ok = True\n",
    "\n",
    "        elif numpad_edges_with_directions.get((n1[3], n2[3])) == n2[2] and n2[0] == n2[1] == 'A' and n1[1] == n2[1] and n1[2] == n2[2]:\n",
    "            edge_ok = True\n",
    "\n",
    "        elif n1[0] != n2[0] and n2[0] == n2[1] == n2[2] == 'A' and n1[1] == n2[1] and n1[2] == n2[2] and n1[3] == n2[3]:\n",
    "            edge_ok = True\n",
    "\n",
    "        if edge_ok:\n",
    "            edges.append((n1, n2))"
   ]
  },
  {
   "cell_type": "code",
   "execution_count": 39,
   "id": "dbdd609d",
   "metadata": {},
   "outputs": [],
   "source": [
    "G = nx.DiGraph()\n",
    "G.add_edges_from(edges)"
   ]
  },
  {
   "cell_type": "code",
   "execution_count": 40,
   "id": "2325ee80",
   "metadata": {},
   "outputs": [
    {
     "name": "stderr",
     "output_type": "stream",
     "text": [
      "100%|██████████| 5/5 [00:00<00:00, 1105.33it/s]\n"
     ]
    }
   ],
   "source": [
    "current_node = ('A', 'A', 'A', 'A')\n",
    "code_complexity_sum = 0\n",
    "\n",
    "for code in tqdm(codes):\n",
    "    input_length = 0\n",
    "\n",
    "    for digit in code:\n",
    "        current_target = ('A', 'A', 'A', digit)\n",
    "        input_length += nx.shortest_path_length(G, source=current_node, target=current_target)\n",
    "        current_node = current_target\n",
    "\n",
    "    code_complexity_sum += int(code[:-1])*input_length"
   ]
  },
  {
   "cell_type": "code",
   "execution_count": 41,
   "id": "0d16a048",
   "metadata": {},
   "outputs": [
    {
     "data": {
      "text/plain": [
       "126384"
      ]
     },
     "execution_count": 41,
     "metadata": {},
     "output_type": "execute_result"
    }
   ],
   "source": [
    "code_complexity_sum"
   ]
  },
  {
   "cell_type": "markdown",
   "id": "da5a2eff",
   "metadata": {},
   "source": [
    "## Puzzle 2"
   ]
  },
  {
   "cell_type": "markdown",
   "id": "c3cf3b5f",
   "metadata": {},
   "source": [
    "NOT DONE!"
   ]
  },
  {
   "cell_type": "code",
   "execution_count": 42,
   "id": "7914ed33",
   "metadata": {},
   "outputs": [
    {
     "data": {
      "text/plain": [
       "\"\\nn_robots = 26\\nnumpad_buttons = list('0123456789A')\\ndpad_buttons = list('<^>vA')\\nedges = []\\n\\nfor n1 in tqdm(product(*[dpad_buttons]*n_robots, numpad_buttons), total=len(dpad_buttons)**n_robots*len(numpad_buttons)):\\n    for n2 in product(*[dpad_buttons]*n_robots, numpad_buttons):\\n        edge_ok = False\\n\\n        if dpad_edges_with_directions.get((n1[1], n2[1])) == n2[0] and n1[0] != n2[0] and all(n1[i] == n2[i] for i in range(2, n_robots + 1)):\\n            edge_ok = True\\n\\n        elif any(dpad_edges_with_directions.get((n1[i], n2[i])) == n2[i - 1] and all(n2[j] == 'A' for j in range(i - 1)) and all(n1[k] == n2[k] for k in range(1, n_robots + 1) if k != i) for i in range(2, n_robots)):\\n            edge_ok = True\\n\\n        elif numpad_edges_with_directions.get((n1[n_robots], n2[n_robots])) == n2[n_robots - 1] and all(n2[i] == 'A' for i in range(n_robots - 1)) and all(n1[i] == n2[i] for i in range(1, n_robots)):\\n            edge_ok = True\\n\\n        elif n1[0] != n2[0] and all(n2[i] == 'A' for i in range(n_robots)) and all(n1[i] == n2[i] for i in range(1, n_robots + 1)):\\n            edge_ok = True\\n\\n        if edge_ok:\\n            edges.append((n1, n2))\\n\""
      ]
     },
     "execution_count": 42,
     "metadata": {},
     "output_type": "execute_result"
    }
   ],
   "source": [
    "'''\n",
    "n_robots = 26\n",
    "numpad_buttons = list('0123456789A')\n",
    "dpad_buttons = list('<^>vA')\n",
    "edges = []\n",
    "\n",
    "for n1 in tqdm(product(*[dpad_buttons]*n_robots, numpad_buttons), total=len(dpad_buttons)**n_robots*len(numpad_buttons)):\n",
    "    for n2 in product(*[dpad_buttons]*n_robots, numpad_buttons):\n",
    "        edge_ok = False\n",
    "\n",
    "        if dpad_edges_with_directions.get((n1[1], n2[1])) == n2[0] and n1[0] != n2[0] and all(n1[i] == n2[i] for i in range(2, n_robots + 1)):\n",
    "            edge_ok = True\n",
    "\n",
    "        elif any(dpad_edges_with_directions.get((n1[i], n2[i])) == n2[i - 1] and all(n2[j] == 'A' for j in range(i - 1)) and all(n1[k] == n2[k] for k in range(1, n_robots + 1) if k != i) for i in range(2, n_robots)):\n",
    "            edge_ok = True\n",
    "\n",
    "        elif numpad_edges_with_directions.get((n1[n_robots], n2[n_robots])) == n2[n_robots - 1] and all(n2[i] == 'A' for i in range(n_robots - 1)) and all(n1[i] == n2[i] for i in range(1, n_robots)):\n",
    "            edge_ok = True\n",
    "\n",
    "        elif n1[0] != n2[0] and all(n2[i] == 'A' for i in range(n_robots)) and all(n1[i] == n2[i] for i in range(1, n_robots + 1)):\n",
    "            edge_ok = True\n",
    "\n",
    "        if edge_ok:\n",
    "            edges.append((n1, n2))\n",
    "'''"
   ]
  },
  {
   "cell_type": "code",
   "execution_count": 43,
   "id": "eb8dca1f",
   "metadata": {},
   "outputs": [],
   "source": [
    "G_numpad = nx.Graph()\n",
    "G_numpad.add_edges_from(numpad_edges_with_directions.keys())\n",
    "\n",
    "G_dpad = nx.Graph()\n",
    "G_dpad.add_edges_from(dpad_edges_with_directions.keys())"
   ]
  },
  {
   "cell_type": "code",
   "execution_count": 45,
   "id": "8091160f",
   "metadata": {},
   "outputs": [
    {
     "name": "stderr",
     "output_type": "stream",
     "text": [
      "100%|██████████| 1/1 [00:00<00:00, 602.89it/s]\n"
     ]
    }
   ],
   "source": [
    "n_robots = 1\n",
    "\n",
    "P = G_numpad\n",
    "\n",
    "for i in tqdm(range(n_robots)):\n",
    "    P = nx.strong_product(P, G_dpad)"
   ]
  },
  {
   "cell_type": "code",
   "execution_count": 14,
   "id": "e3afd7d6",
   "metadata": {},
   "outputs": [
    {
     "data": {
      "text/plain": [
       "68500"
      ]
     },
     "execution_count": 14,
     "metadata": {},
     "output_type": "execute_result"
    }
   ],
   "source": [
    "P.number_of_edges()"
   ]
  },
  {
   "cell_type": "code",
   "execution_count": 47,
   "id": "c4ad2c35",
   "metadata": {},
   "outputs": [
    {
     "data": {
      "text/plain": [
       "EdgeView([('A', '0'), ('A', '3'), ('0', '2'), ('3', '2'), ('3', '6'), ('2', '1'), ('2', '5'), ('6', '5'), ('6', '9'), ('5', '4'), ('5', '8'), ('9', '8'), ('8', '7'), ('1', '4'), ('4', '7')])"
      ]
     },
     "execution_count": 47,
     "metadata": {},
     "output_type": "execute_result"
    }
   ],
   "source": [
    "G_numpad.edges"
   ]
  },
  {
   "cell_type": "code",
   "execution_count": 48,
   "id": "245d1a1b",
   "metadata": {},
   "outputs": [
    {
     "data": {
      "text/plain": [
       "EdgeView([('>', 'v'), ('>', 'A'), ('v', '<'), ('v', '^'), ('A', '^')])"
      ]
     },
     "execution_count": 48,
     "metadata": {},
     "output_type": "execute_result"
    }
   ],
   "source": [
    "G_dpad.edges"
   ]
  },
  {
   "cell_type": "code",
   "execution_count": 49,
   "id": "3a502846",
   "metadata": {},
   "outputs": [
    {
     "data": {
      "text/plain": [
       "EdgeView([(('A', '>'), ('A', 'v')), (('A', '>'), ('A', 'A')), (('A', '>'), ('0', '>')), (('A', '>'), ('3', '>')), (('A', '>'), ('0', 'v')), (('A', '>'), ('0', 'A')), (('A', '>'), ('3', 'v')), (('A', '>'), ('3', 'A')), (('A', 'v'), ('A', '<')), (('A', 'v'), ('A', '^')), (('A', 'v'), ('0', 'v')), (('A', 'v'), ('3', 'v')), (('A', 'v'), ('0', '<')), (('A', 'v'), ('0', '^')), (('A', 'v'), ('3', '<')), (('A', 'v'), ('3', '^')), (('A', 'v'), ('0', '>')), (('A', 'v'), ('3', '>')), (('A', 'A'), ('A', '^')), (('A', 'A'), ('0', 'A')), (('A', 'A'), ('3', 'A')), (('A', 'A'), ('0', '^')), (('A', 'A'), ('3', '^')), (('A', 'A'), ('0', '>')), (('A', 'A'), ('3', '>')), (('A', '^'), ('0', '^')), (('A', '^'), ('3', '^')), (('A', '^'), ('0', 'v')), (('A', '^'), ('0', 'A')), (('A', '^'), ('3', 'v')), (('A', '^'), ('3', 'A')), (('A', '<'), ('0', '<')), (('A', '<'), ('3', '<')), (('A', '<'), ('0', 'v')), (('A', '<'), ('3', 'v')), (('0', '>'), ('0', 'v')), (('0', '>'), ('0', 'A')), (('0', '>'), ('2', '>')), (('0', '>'), ('2', 'v')), (('0', '>'), ('2', 'A')), (('0', 'v'), ('0', '<')), (('0', 'v'), ('0', '^')), (('0', 'v'), ('2', 'v')), (('0', 'v'), ('2', '<')), (('0', 'v'), ('2', '^')), (('0', 'v'), ('2', '>')), (('0', 'A'), ('0', '^')), (('0', 'A'), ('2', 'A')), (('0', 'A'), ('2', '^')), (('0', 'A'), ('2', '>')), (('0', '^'), ('2', '^')), (('0', '^'), ('2', 'v')), (('0', '^'), ('2', 'A')), (('0', '<'), ('2', '<')), (('0', '<'), ('2', 'v')), (('3', '>'), ('3', 'v')), (('3', '>'), ('3', 'A')), (('3', '>'), ('2', '>')), (('3', '>'), ('6', '>')), (('3', '>'), ('2', 'v')), (('3', '>'), ('2', 'A')), (('3', '>'), ('6', 'v')), (('3', '>'), ('6', 'A')), (('3', 'v'), ('3', '<')), (('3', 'v'), ('3', '^')), (('3', 'v'), ('2', 'v')), (('3', 'v'), ('6', 'v')), (('3', 'v'), ('2', '<')), (('3', 'v'), ('2', '^')), (('3', 'v'), ('6', '<')), (('3', 'v'), ('6', '^')), (('3', 'v'), ('2', '>')), (('3', 'v'), ('6', '>')), (('3', 'A'), ('3', '^')), (('3', 'A'), ('2', 'A')), (('3', 'A'), ('6', 'A')), (('3', 'A'), ('2', '^')), (('3', 'A'), ('6', '^')), (('3', 'A'), ('2', '>')), (('3', 'A'), ('6', '>')), (('3', '^'), ('2', '^')), (('3', '^'), ('6', '^')), (('3', '^'), ('2', 'v')), (('3', '^'), ('2', 'A')), (('3', '^'), ('6', 'v')), (('3', '^'), ('6', 'A')), (('3', '<'), ('2', '<')), (('3', '<'), ('6', '<')), (('3', '<'), ('2', 'v')), (('3', '<'), ('6', 'v')), (('2', '>'), ('2', 'v')), (('2', '>'), ('2', 'A')), (('2', '>'), ('1', '>')), (('2', '>'), ('5', '>')), (('2', '>'), ('1', 'v')), (('2', '>'), ('1', 'A')), (('2', '>'), ('5', 'v')), (('2', '>'), ('5', 'A')), (('2', 'v'), ('2', '<')), (('2', 'v'), ('2', '^')), (('2', 'v'), ('1', 'v')), (('2', 'v'), ('5', 'v')), (('2', 'v'), ('1', '<')), (('2', 'v'), ('1', '^')), (('2', 'v'), ('5', '<')), (('2', 'v'), ('5', '^')), (('2', 'v'), ('1', '>')), (('2', 'v'), ('5', '>')), (('2', 'A'), ('2', '^')), (('2', 'A'), ('1', 'A')), (('2', 'A'), ('5', 'A')), (('2', 'A'), ('1', '^')), (('2', 'A'), ('5', '^')), (('2', 'A'), ('1', '>')), (('2', 'A'), ('5', '>')), (('2', '^'), ('1', '^')), (('2', '^'), ('5', '^')), (('2', '^'), ('1', 'v')), (('2', '^'), ('1', 'A')), (('2', '^'), ('5', 'v')), (('2', '^'), ('5', 'A')), (('2', '<'), ('1', '<')), (('2', '<'), ('5', '<')), (('2', '<'), ('1', 'v')), (('2', '<'), ('5', 'v')), (('6', '>'), ('6', 'v')), (('6', '>'), ('6', 'A')), (('6', '>'), ('5', '>')), (('6', '>'), ('9', '>')), (('6', '>'), ('5', 'v')), (('6', '>'), ('5', 'A')), (('6', '>'), ('9', 'v')), (('6', '>'), ('9', 'A')), (('6', 'v'), ('6', '<')), (('6', 'v'), ('6', '^')), (('6', 'v'), ('5', 'v')), (('6', 'v'), ('9', 'v')), (('6', 'v'), ('5', '<')), (('6', 'v'), ('5', '^')), (('6', 'v'), ('9', '<')), (('6', 'v'), ('9', '^')), (('6', 'v'), ('5', '>')), (('6', 'v'), ('9', '>')), (('6', 'A'), ('6', '^')), (('6', 'A'), ('5', 'A')), (('6', 'A'), ('9', 'A')), (('6', 'A'), ('5', '^')), (('6', 'A'), ('9', '^')), (('6', 'A'), ('5', '>')), (('6', 'A'), ('9', '>')), (('6', '^'), ('5', '^')), (('6', '^'), ('9', '^')), (('6', '^'), ('5', 'v')), (('6', '^'), ('5', 'A')), (('6', '^'), ('9', 'v')), (('6', '^'), ('9', 'A')), (('6', '<'), ('5', '<')), (('6', '<'), ('9', '<')), (('6', '<'), ('5', 'v')), (('6', '<'), ('9', 'v')), (('5', '>'), ('5', 'v')), (('5', '>'), ('5', 'A')), (('5', '>'), ('4', '>')), (('5', '>'), ('8', '>')), (('5', '>'), ('4', 'v')), (('5', '>'), ('4', 'A')), (('5', '>'), ('8', 'v')), (('5', '>'), ('8', 'A')), (('5', 'v'), ('5', '<')), (('5', 'v'), ('5', '^')), (('5', 'v'), ('4', 'v')), (('5', 'v'), ('8', 'v')), (('5', 'v'), ('4', '<')), (('5', 'v'), ('4', '^')), (('5', 'v'), ('8', '<')), (('5', 'v'), ('8', '^')), (('5', 'v'), ('4', '>')), (('5', 'v'), ('8', '>')), (('5', 'A'), ('5', '^')), (('5', 'A'), ('4', 'A')), (('5', 'A'), ('8', 'A')), (('5', 'A'), ('4', '^')), (('5', 'A'), ('8', '^')), (('5', 'A'), ('4', '>')), (('5', 'A'), ('8', '>')), (('5', '^'), ('4', '^')), (('5', '^'), ('8', '^')), (('5', '^'), ('4', 'v')), (('5', '^'), ('4', 'A')), (('5', '^'), ('8', 'v')), (('5', '^'), ('8', 'A')), (('5', '<'), ('4', '<')), (('5', '<'), ('8', '<')), (('5', '<'), ('4', 'v')), (('5', '<'), ('8', 'v')), (('9', '>'), ('9', 'v')), (('9', '>'), ('9', 'A')), (('9', '>'), ('8', '>')), (('9', '>'), ('8', 'v')), (('9', '>'), ('8', 'A')), (('9', 'v'), ('9', '<')), (('9', 'v'), ('9', '^')), (('9', 'v'), ('8', 'v')), (('9', 'v'), ('8', '<')), (('9', 'v'), ('8', '^')), (('9', 'v'), ('8', '>')), (('9', 'A'), ('9', '^')), (('9', 'A'), ('8', 'A')), (('9', 'A'), ('8', '^')), (('9', 'A'), ('8', '>')), (('9', '^'), ('8', '^')), (('9', '^'), ('8', 'v')), (('9', '^'), ('8', 'A')), (('9', '<'), ('8', '<')), (('9', '<'), ('8', 'v')), (('8', '>'), ('8', 'v')), (('8', '>'), ('8', 'A')), (('8', '>'), ('7', '>')), (('8', '>'), ('7', 'v')), (('8', '>'), ('7', 'A')), (('8', 'v'), ('8', '<')), (('8', 'v'), ('8', '^')), (('8', 'v'), ('7', 'v')), (('8', 'v'), ('7', '<')), (('8', 'v'), ('7', '^')), (('8', 'v'), ('7', '>')), (('8', 'A'), ('8', '^')), (('8', 'A'), ('7', 'A')), (('8', 'A'), ('7', '^')), (('8', 'A'), ('7', '>')), (('8', '^'), ('7', '^')), (('8', '^'), ('7', 'v')), (('8', '^'), ('7', 'A')), (('8', '<'), ('7', '<')), (('8', '<'), ('7', 'v')), (('1', '>'), ('1', 'v')), (('1', '>'), ('1', 'A')), (('1', '>'), ('4', '>')), (('1', '>'), ('4', 'v')), (('1', '>'), ('4', 'A')), (('1', 'v'), ('1', '<')), (('1', 'v'), ('1', '^')), (('1', 'v'), ('4', 'v')), (('1', 'v'), ('4', '<')), (('1', 'v'), ('4', '^')), (('1', 'v'), ('4', '>')), (('1', 'A'), ('1', '^')), (('1', 'A'), ('4', 'A')), (('1', 'A'), ('4', '^')), (('1', 'A'), ('4', '>')), (('1', '^'), ('4', '^')), (('1', '^'), ('4', 'v')), (('1', '^'), ('4', 'A')), (('1', '<'), ('4', '<')), (('1', '<'), ('4', 'v')), (('4', '>'), ('4', 'v')), (('4', '>'), ('4', 'A')), (('4', '>'), ('7', '>')), (('4', '>'), ('7', 'v')), (('4', '>'), ('7', 'A')), (('4', 'v'), ('4', '<')), (('4', 'v'), ('4', '^')), (('4', 'v'), ('7', 'v')), (('4', 'v'), ('7', '<')), (('4', 'v'), ('7', '^')), (('4', 'v'), ('7', '>')), (('4', 'A'), ('4', '^')), (('4', 'A'), ('7', 'A')), (('4', 'A'), ('7', '^')), (('4', 'A'), ('7', '>')), (('4', '^'), ('7', '^')), (('4', '^'), ('7', 'v')), (('4', '^'), ('7', 'A')), (('4', '<'), ('7', '<')), (('4', '<'), ('7', 'v')), (('7', '>'), ('7', 'v')), (('7', '>'), ('7', 'A')), (('7', 'v'), ('7', '<')), (('7', 'v'), ('7', '^')), (('7', 'A'), ('7', '^'))])"
      ]
     },
     "execution_count": 49,
     "metadata": {},
     "output_type": "execute_result"
    }
   ],
   "source": [
    "P.edges"
   ]
  },
  {
   "cell_type": "code",
   "execution_count": null,
   "id": "52d1a0e7",
   "metadata": {},
   "outputs": [
    {
     "data": {
      "text/plain": [
       "2944"
      ]
     },
     "execution_count": 15,
     "metadata": {},
     "output_type": "execute_result"
    }
   ],
   "source": [
    "G.number_of_edges()"
   ]
  },
  {
   "cell_type": "code",
   "execution_count": 16,
   "id": "ce1d36f8",
   "metadata": {},
   "outputs": [],
   "source": [
    "# G = nx.DiGraph()\n",
    "# G.add_edges_from(edges)"
   ]
  },
  {
   "cell_type": "code",
   "execution_count": 17,
   "id": "7fbd9723",
   "metadata": {},
   "outputs": [
    {
     "name": "stderr",
     "output_type": "stream",
     "text": [
      "100%|██████████| 5/5 [00:00<00:00, 624.91it/s]\n"
     ]
    }
   ],
   "source": [
    "# current_node = ('A', )*(n_robots + 1)\n",
    "current_node = 'A'\n",
    "\n",
    "for i in range(n_robots):\n",
    "    current_node = (current_node, 'A')\n",
    "\n",
    "code_complexity_sum = 0\n",
    "\n",
    "for code in tqdm(codes):\n",
    "    input_length = 0\n",
    "\n",
    "    for digit in code:\n",
    "        current_target = digit\n",
    "\n",
    "        for i in range(n_robots):\n",
    "            current_target = (current_target, 'A')\n",
    "\n",
    "        input_length += nx.shortest_path_length(P, source=current_node, target=current_target)\n",
    "        current_node = current_target\n",
    "\n",
    "    code_complexity_sum += int(code[:-1])*input_length"
   ]
  },
  {
   "cell_type": "code",
   "execution_count": 18,
   "id": "23000470",
   "metadata": {},
   "outputs": [
    {
     "data": {
      "text/plain": [
       "17300"
      ]
     },
     "execution_count": 18,
     "metadata": {},
     "output_type": "execute_result"
    }
   ],
   "source": [
    "code_complexity_sum"
   ]
  }
 ],
 "metadata": {
  "kernelspec": {
   "display_name": "Python 3",
   "language": "python",
   "name": "python3"
  },
  "language_info": {
   "codemirror_mode": {
    "name": "ipython",
    "version": 3
   },
   "file_extension": ".py",
   "mimetype": "text/x-python",
   "name": "python",
   "nbconvert_exporter": "python",
   "pygments_lexer": "ipython3",
   "version": "3.12.4"
  }
 },
 "nbformat": 4,
 "nbformat_minor": 5
}
